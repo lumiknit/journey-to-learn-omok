{
  "nbformat": 4,
  "nbformat_minor": 0,
  "metadata": {
    "colab": {
      "name": "app_e_usage_of_trained_weight.ipynb",
      "provenance": [],
      "collapsed_sections": []
    },
    "kernelspec": {
      "name": "python3",
      "display_name": "Python 3"
    },
    "language_info": {
      "name": "python"
    },
    "accelerator": "GPU"
  },
  "cells": [
    {
      "cell_type": "markdown",
      "source": [
        "# E. Usage of Trained Weight"
      ],
      "metadata": {
        "id": "GIpiExhpAAf5"
      }
    },
    {
      "cell_type": "markdown",
      "source": [
        "## 실전 압축 weight 사용법"
      ],
      "metadata": {
        "id": "OyW6yJ_CI55S"
      }
    },
    {
      "cell_type": "markdown",
      "source": [
        "아래에서는 다른 코드를 전부 제외시키고,\n",
        "App.B에서 학습시킨 weight를\n",
        "읽어오는 코드만 남겨두었습니다."
      ],
      "metadata": {
        "id": "tBNjDuuVeYgI"
      }
    },
    {
      "cell_type": "markdown",
      "source": [
        "## 필요한 파일 다운로드"
      ],
      "metadata": {
        "id": "kupt1drfAy13"
      }
    },
    {
      "cell_type": "markdown",
      "source": [
        "### 모듈 다운로드"
      ],
      "metadata": {
        "id": "todfNNdWaLjM"
      }
    },
    {
      "cell_type": "markdown",
      "source": [
        "아래는 리눅스 기준으로 작성되었습니다.\n",
        "만약 윈도우 등등 리눅스, git이 없는 경우에는\n",
        "수동으로 아래와 같이 작업해주세요.\n",
        "- https://github.com/lumiknit/mock5.py 를 다운로드 합니다.\n",
        "- `mock5.py` 디렉토리에 있는 `mock5` 폴더를 복사해서 노트북과\n",
        "같은 디렉토리에 둡니다.\n",
        "- 최종적으로는 폴더에 다음과 같은 파일이 있어야합니다:"
      ],
      "metadata": {
        "id": "OszBPyQ7YpC7"
      }
    },
    {
      "cell_type": "code",
      "source": [
        "!rm -rf mock5.py\n",
        "!git clone https://github.com/lumiknit/mock5.py\n",
        "!mv mock5.py/mock5 ."
      ],
      "metadata": {
        "id": "Qk8EfWVrAYND",
        "colab": {
          "base_uri": "https://localhost:8080/"
        },
        "outputId": "97afa64b-cd3c-4265-8897-4312a1ab284b"
      },
      "execution_count": 1,
      "outputs": [
        {
          "output_type": "stream",
          "name": "stdout",
          "text": [
            "Cloning into 'mock5.py'...\n",
            "remote: Enumerating objects: 152, done.\u001b[K\n",
            "remote: Counting objects: 100% (152/152), done.\u001b[K\n",
            "remote: Compressing objects: 100% (101/101), done.\u001b[K\n",
            "remote: Total 152 (delta 74), reused 121 (delta 47), pack-reused 0\u001b[K\n",
            "Receiving objects: 100% (152/152), 40.18 KiB | 8.04 MiB/s, done.\n",
            "Resolving deltas: 100% (74/74), done.\n",
            "mv: cannot move 'mock5.py/mock5' to './mock5': Directory not empty\n"
          ]
        }
      ]
    },
    {
      "cell_type": "markdown",
      "source": [
        "### Weight 다운로드\n",
        "\n",
        "여기서는 https://github.com/lumiknit/journey-to-learn-omok\n",
        "의 `app_b_last.weight`\n",
        "를 `app_e.weight`라는 이름으로 다운로드 받습니다.\n",
        "만약 App.B에서 학습시킨 다른 weight를 쓰고 싶다면,\n",
        "마찬가지로 해당 파일을 다운로드 받아서\n",
        "`app_e.weight`라는 이름으로\n",
        "이 노트북과 같은 디렉토리에 두면 됩니다."
      ],
      "metadata": {
        "id": "Y-oEWc7gZObt"
      }
    },
    {
      "cell_type": "code",
      "source": [
        "!rm -rf journey-to-learn-omok\n",
        "!git clone https://github.com/lumiknit/journey-to-learn-omok\n",
        "!mv journey-to-learn-omok/app_b_last.weight app_e.weight"
      ],
      "metadata": {
        "id": "xanfN7pQZyTq",
        "colab": {
          "base_uri": "https://localhost:8080/"
        },
        "outputId": "13af4875-cab7-4b25-b26b-02c229cf652d"
      },
      "execution_count": 2,
      "outputs": [
        {
          "output_type": "stream",
          "name": "stdout",
          "text": [
            "Cloning into 'journey-to-learn-omok'...\n",
            "remote: Enumerating objects: 238, done.\u001b[K\n",
            "remote: Counting objects: 100% (167/167), done.\u001b[K\n",
            "remote: Compressing objects: 100% (106/106), done.\u001b[K\n",
            "remote: Total 238 (delta 95), reused 104 (delta 61), pack-reused 71\u001b[K\n",
            "Receiving objects: 100% (238/238), 21.59 MiB | 12.21 MiB/s, done.\n",
            "Resolving deltas: 100% (131/131), done.\n"
          ]
        }
      ]
    },
    {
      "cell_type": "markdown",
      "source": [
        "최종적으로는 다음과 같은 파일이 있어야 합니다.\n",
        "```\n",
        "app_e_usage_of_trained_weight.ipynb\n",
        "mock5.py\n",
        "  * __init__.py\n",
        "  * Analysis.py\n",
        "  * agent_*.py\n",
        "app_e.weight\n",
        "```"
      ],
      "metadata": {
        "id": "dtpdekg0aJ__"
      }
    },
    {
      "cell_type": "code",
      "source": [
        "!ls -lh"
      ],
      "metadata": {
        "colab": {
          "base_uri": "https://localhost:8080/"
        },
        "id": "a9uU81sMaDDf",
        "outputId": "2c64ed7c-7e5b-4a76-b1d6-cc3e38b30bcc"
      },
      "execution_count": 3,
      "outputs": [
        {
          "output_type": "stream",
          "name": "stdout",
          "text": [
            "total 18M\n",
            "-rw-r--r-- 1 root root  18M May 25 14:07 app_e.weight\n",
            "drwxr-xr-x 3 root root 4.0K May 25 14:07 journey-to-learn-omok\n",
            "drwxr-xr-x 3 root root 4.0K May 25 13:37 mock5\n",
            "drwxr-xr-x 6 root root 4.0K May 25 14:07 mock5.py\n"
          ]
        }
      ]
    },
    {
      "cell_type": "markdown",
      "source": [
        "## 모듈 불러오기\n",
        "\n",
        "실행에 필요한 모든 모듈을 임포트하고 CUDA 등을 설정합니다."
      ],
      "metadata": {
        "id": "FXFzj9obcMSf"
      }
    },
    {
      "cell_type": "code",
      "source": [
        "from mock5 import Mock5\n",
        "from mock5.analysis import Analysis as M5Analysis\n",
        "import mock5.agent_random as m5rand\n",
        "import mock5.agent_analysis_based as m5aa\n",
        "import mock5.agent_ad as m5ad\n",
        "import mock5.agent_pt as m5pt\n",
        "import mock5.agent_df as m5df\n",
        "\n",
        "import matplotlib.pyplot as plt\n",
        "import numpy as np\n",
        "import torch\n",
        "import torch.nn as nn\n",
        "\n",
        "device = 'cuda' if torch.cuda.is_available() else 'cpu'\n",
        "print(\"Device: {}\".format(device))\n",
        "\n",
        "torch.backends.cudnn.benchmark = True\n",
        "torch.autograd.set_detect_anomaly(False)"
      ],
      "metadata": {
        "id": "FpluuOUEAYP2",
        "colab": {
          "base_uri": "https://localhost:8080/"
        },
        "outputId": "18fdfa42-f785-4d4c-d33b-ea62bdc0ba84"
      },
      "execution_count": 4,
      "outputs": [
        {
          "output_type": "stream",
          "name": "stdout",
          "text": [
            "Device: cuda\n"
          ]
        },
        {
          "output_type": "execute_result",
          "data": {
            "text/plain": [
              "<torch.autograd.anomaly_mode.set_detect_anomaly at 0x7f79a4e6a510>"
            ]
          },
          "metadata": {},
          "execution_count": 4
        }
      ]
    },
    {
      "cell_type": "markdown",
      "source": [
        "## 보드 크기 설정\n",
        "\n",
        "H, W를 원하는 값으로 바꾸면 됩니다.\n",
        "학습은 15, 15에서 진행되었습니다."
      ],
      "metadata": {
        "id": "Amy_A9TSKLcL"
      }
    },
    {
      "cell_type": "code",
      "source": [
        "H, W = 15, 15"
      ],
      "metadata": {
        "id": "pzinkJGxAYSL"
      },
      "execution_count": 5,
      "outputs": []
    },
    {
      "cell_type": "markdown",
      "source": [
        "## 신경망\n",
        "\n",
        "Policy network의 신경망 class입니다."
      ],
      "metadata": {
        "id": "xoa7cnYnI5cJ"
      }
    },
    {
      "cell_type": "code",
      "source": [
        "class Flatten(nn.Module):\n",
        "  def forward(self, x):\n",
        "    if len(x.shape) == 3: return x.view(-1)\n",
        "    else: return x.flatten(1, -1)\n",
        "\n",
        "class Block1(nn.Module):\n",
        "  def __init__(self, ch, int_ch, ker):\n",
        "    super().__init__()\n",
        "    self.seq = nn.Sequential(\n",
        "      nn.Conv2d(ch, int_ch, ker, padding='same'),\n",
        "      nn.GELU(),\n",
        "      nn.Conv2d(int_ch, ch, ker, padding='same'))\n",
        "    \n",
        "  def forward(self, x):\n",
        "    y_0 = self.seq(x)\n",
        "    return nn.functional.gelu(x + y_0)\n",
        "\n",
        "class Policy(nn.Module):\n",
        "  def __init__(self):\n",
        "    super().__init__()\n",
        "    self.seq = nn.Sequential(\n",
        "      nn.Conv2d(2, 128, 3, padding='same'),\n",
        "      nn.GELU(),\n",
        "      Block1(128, 128, 3),\n",
        "      Block1(128, 128, 3),\n",
        "      Block1(128, 128, 3),\n",
        "      nn.Conv2d(128, 1, 5, padding='same'),\n",
        "      nn.GELU(),\n",
        "      Flatten(),\n",
        "      nn.LogSoftmax(dim=-1))\n",
        "\n",
        "  def forward(self, x): return self.seq(x)"
      ],
      "metadata": {
        "id": "7W-cUdwvJAfs"
      },
      "execution_count": 6,
      "outputs": []
    },
    {
      "cell_type": "markdown",
      "source": [
        "### 정책, 에이전트\n",
        "\n",
        "Mock5 (현재 오목판)을 입력받으면\n",
        "다음에 돌을 둘 위치를 행,열로 반환하는 agent를\n",
        "구현합니다."
      ],
      "metadata": {
        "id": "9bCoGZBRA1SD"
      }
    },
    {
      "cell_type": "code",
      "source": [
        "def fn_name(fn):\n",
        "  if hasattr(fn, 'name'): return fn.name\n",
        "  else: return repr(fn)\n",
        "\n",
        "# agent: (Mock5 -> distr) -> (Mock5 -> (row, col))\n",
        "# 입력은 Mock5를 입력받아서 numpy.array로 각 action을 실행할 확률 분포를 반환\n",
        "# 반환값은 함수로, Mock5를 입력받아서 다음에 돌을 둘 행, 열을 정수로 반환\n",
        "def agent(pi, epsilon=0):\n",
        "  # pi must return array of non-negative values\n",
        "  def c(game):\n",
        "    w, h = game.width, game.height\n",
        "    m, p = np.ones(h * w), np.array(pi(game))\n",
        "    for i in range(h * w):\n",
        "      if game.board[i] != 0: m[i], p[i] = 0, 0\n",
        "    s = p.sum()\n",
        "    if np.random.uniform() < epsilon or s == 0:\n",
        "      s = m.sum()\n",
        "      if s == 0: return None, None # Cannot do anything\n",
        "      else: idx = np.random.choice(h * w, p=(m / s))\n",
        "    else: idx = np.random.choice(h * w, p=(p / s))\n",
        "    return idx // w, idx % w\n",
        "  c.name = 'stochastic({})'.format(fn_name(pi))\n",
        "  return c\n",
        "\n",
        "def game_to_tensor(game):\n",
        "  t = torch.zeros(2, game.height * game.width, dtype=torch.float)\n",
        "  for i in range(game.height * game.width):\n",
        "    b = game.board[i]\n",
        "    if b == game.player: t[0][i] = 1.0\n",
        "    elif b != 0: t[1][i] = 1.0\n",
        "  return t.view(2, game.height, game.width)\n",
        "\n",
        "# policy_model: Policy -> (Mock5 -> distr)\n",
        "# Policy 클래스로 된 network를 입력받아\n",
        "# Mock5를 받으면 각 행동을 할 확률분포를 numpy.array로 반환하는 함수\n",
        "def policy_model(net):\n",
        "  def c(game):\n",
        "    X = game_to_tensor(game).to(device)\n",
        "    with torch.no_grad():\n",
        "      p = torch.exp(net(X))\n",
        "    arr = p.squeeze().to('cpu').numpy()\n",
        "    return arr\n",
        "  c.name = 'model({:x})'.format(id(net))\n",
        "  return c\n",
        "\n",
        "# 실제로 Policy 클래스로 행동을 확인하고 싶다면\n",
        "# agent_policy(network)로도 충분합니다.\n",
        "def agent_policy(net): return agent(policy_model(net))"
      ],
      "metadata": {
        "id": "rY1OR7XSBDZ6"
      },
      "execution_count": 7,
      "outputs": []
    },
    {
      "cell_type": "code",
      "source": [
        "# 늘 샌드백으로 쓰였던 agent_mixed\n",
        "def agent_mixed(game):\n",
        "  a = np.random.uniform()\n",
        "  if a < 0.4: return m5aa.agent(game)\n",
        "  elif a < 0.8: return m5ad.agent(game)\n",
        "  elif a < 0.9: return m5pt.agent(game)\n",
        "  else: return m5df.agent(game)\n",
        "agent_mixed.name = 'agent-mixed-analysis-based'"
      ],
      "metadata": {
        "id": "tHO-vd7Kdjbf"
      },
      "execution_count": 8,
      "outputs": []
    },
    {
      "cell_type": "markdown",
      "source": [
        "## Test Agents\n",
        "\n",
        "두 agent끼리 게임을 진행하여\n",
        "승률 구합니다.\n",
        "반환되는 값은, 승리 1점, 무승부 0.5점, 패배 0점으로\n",
        "매겼을 때 agent1의 평균 점수입니다."
      ],
      "metadata": {
        "id": "Ikc0VN_meUxI"
      }
    },
    {
      "cell_type": "code",
      "source": [
        "def test_agents(num_game, agent1, agent2, p_msg=True):\n",
        "  agents = [agent1, agent2]\n",
        "  w1, w2 = 0, 0\n",
        "  c1, c2 = 0, 0\n",
        "  for i in range(num_game):\n",
        "    g = Mock5(H, W)\n",
        "    result = g.play(agents[i % 2], agents[(i + 1) % 2], random_first=False,\n",
        "      print_intermediate_state=False, print_messages=False)\n",
        "    if result != 0 and i % 2 == 1: result = 3 - result\n",
        "    if result == 1:\n",
        "      w1 += 1\n",
        "      c1 += len(g.history)\n",
        "    elif result == 2:\n",
        "      w2 += 1\n",
        "      c2 += len(g.history)\n",
        "  if p_msg:\n",
        "    print(\"-- Test Result --\")\n",
        "    print(\"* Agent1 = {} \\n* Agent2 = {}\".format(fn_name(agent1), fn_name(agent2)))\n",
        "    print(\"Total : {:5d}\".format(num_game))\n",
        "    print(\"A1 Win: {:5d} ({:5.3f}) (avg.mov {:6.1f})\".format(w1, w1 / num_game, c1 / max(1, w1)))\n",
        "    print(\"A2 Win: {:5d} ({:5.3f}) (avg.mov {:6.1f})\".format(w2, w2 / num_game, c2 / max(1, w2)))\n",
        "  return (w1 + (num_game - w1 - w2) * 0.5) / num_game"
      ],
      "metadata": {
        "id": "akmuCGFUKJ2N"
      },
      "execution_count": 9,
      "outputs": []
    },
    {
      "cell_type": "markdown",
      "source": [
        "아래를 주석을 해제하고 실행해보세요."
      ],
      "metadata": {
        "id": "4mK6oUjNeswA"
      }
    },
    {
      "cell_type": "code",
      "source": [
        "# test_agents(10, agent_mixed, m5aa.agent)\n",
        "# test_agents(10, m5aa.agent, m5df.agent)\n",
        "test_agents(10, agent_policy(Policy().to(device)), m5aa.agent)"
      ],
      "metadata": {
        "colab": {
          "base_uri": "https://localhost:8080/"
        },
        "id": "Vixq5EQ_eoij",
        "outputId": "01001b4d-ea0e-458a-f570-2db9622363c6"
      },
      "execution_count": 10,
      "outputs": [
        {
          "output_type": "stream",
          "name": "stdout",
          "text": [
            "-- Test Result --\n",
            "* Agent1 = stochastic(model(7f78ebc2b090)) \n",
            "* Agent2 = agent-analysis-based\n",
            "Total :    10\n",
            "A1 Win:     0 (0.000) (avg.mov    0.0)\n",
            "A2 Win:    10 (1.000) (avg.mov    9.7)\n"
          ]
        },
        {
          "output_type": "execute_result",
          "data": {
            "text/plain": [
              "0.0"
            ]
          },
          "metadata": {},
          "execution_count": 10
        }
      ]
    },
    {
      "cell_type": "markdown",
      "source": [
        "## Weight 불러오기\n",
        "\n",
        "`load_hof_file`은 weight 파일에서\n",
        "학습된 network를 불러와 배열로 반환합니다.\n",
        "배열의 크기는 Hall of Fame의 슬롯의 개수와 같습니다.\n",
        "(App.B에서는 5로 설정하여서 총 5개의 네트워크가\n",
        "생깁니다.)"
      ],
      "metadata": {
        "id": "32lOTIlIfERG"
      }
    },
    {
      "cell_type": "code",
      "source": [
        "WEIGHT_FILE = 'app_e.weight'\n",
        "\n",
        "def load_hof_file(filename):\n",
        "  policies = []\n",
        "  hof = torch.load(filename)\n",
        "  for sl in hof['slots']:\n",
        "    pi = Policy().to(device)\n",
        "    pi.load_state_dict(sl['dict'])\n",
        "    policies.append(pi)\n",
        "  return policies\n",
        "\n",
        "policies = load_hof_file(WEIGHT_FILE)"
      ],
      "metadata": {
        "id": "WaGCem4jiu-4"
      },
      "execution_count": 11,
      "outputs": []
    },
    {
      "cell_type": "markdown",
      "source": [
        "## Agent끼리 싸운 기보 얻기\n",
        "\n",
        "다음과 같이 `INDEX`번째 policy와\n",
        "다른 agent를 싸움을 붙여볼 수 있습니다."
      ],
      "metadata": {
        "id": "X08tNqpZgFxk"
      }
    },
    {
      "cell_type": "code",
      "source": [
        "INDEX = 0 # Change to one of 0..len(policies)\n",
        "# Create Game\n",
        "m = Mock5(H, W)\n",
        "# Play (policies[INDEX] v.s. m5df.agent)\n",
        "m.play(\n",
        "  agent_policy(policies[INDEX]), # Agent1: policies[INDEX]\n",
        "  m5df.agent,                           # Agent2: algorithm\n",
        "  print_intermediate_state=False)       # ONLY PRINT final state \n",
        "# Make a plot\n",
        "m.plot()\n",
        "plt.show()\n",
        "plt.close()"
      ],
      "metadata": {
        "colab": {
          "base_uri": "https://localhost:8080/",
          "height": 1000
        },
        "id": "vk3gisyhbSPa",
        "outputId": "f68e33c0-52ae-4d05-a86d-3941ee86586e"
      },
      "execution_count": 12,
      "outputs": [
        {
          "output_type": "stream",
          "name": "stdout",
          "text": [
            "=====================================\n",
            " [ Turn  19 ; 2P's turn (tone = X) ]\n",
            "  | 0 1 2 3 4 5 6 7 8 9 A B C D E\n",
            "--+------------------------------\n",
            "0 | . . . . . . . . . . . . . . .\n",
            "1 | . . . . . . . . . . . . . . .\n",
            "2 | . . . . . . . . . . . . . . .\n",
            "3 | . . . . . . . . . O . . . . .\n",
            "4 | . . . . . . . . . O . . . . .\n",
            "5 | . . . . X . X O X O . . . . .\n",
            "6 | . . . . . . X O O O . . . . .\n",
            "7 | . . . . . . O O X O . . . . .\n",
            "8 | . . . . . . X X . X X . . . .\n",
            "9 | . . . . . . . . . . . . . . .\n",
            "A | . . . . . . . . . . . . . . .\n",
            "B | . . . . . . . . . . . . . . .\n",
            "C | . . . . . . . . . . . . . . .\n",
            "D | . . . . . . . . . . . . . . .\n",
            "E | . . . . . . . . . . . . . . .\n",
            "1p (stochastic(model(7f78ebc391d0))) win!\n"
          ]
        },
        {
          "output_type": "display_data",
          "data": {
            "text/plain": [
              "<Figure size 1080x1080 with 1 Axes>"
            ],
            "image/png": "[encoded data removed]"
          },
          "metadata": {
            "needs_background": "light"
          }
        }
      ]
    },
    {
      "cell_type": "markdown",
      "source": [
        "## 승률 구하기\n",
        "\n",
        "`test_agents`로 게임을 여러번 시뮬레이트 해볼 수 있습니다."
      ],
      "metadata": {
        "id": "ZTjttltwhqbW"
      }
    },
    {
      "cell_type": "code",
      "source": [
        "INDEX = 0 # Change to one of 0..len(policies)\n",
        "NUM_GAME = 10\n",
        "test_agents(NUM_GAME,\n",
        "            agent_policy(policies[INDEX]),\n",
        "            m5aa.agent)"
      ],
      "metadata": {
        "colab": {
          "base_uri": "https://localhost:8080/"
        },
        "id": "wWoGnf2ihwRu",
        "outputId": "5762df83-d109-441a-ee62-5ec3abc4764b"
      },
      "execution_count": 13,
      "outputs": [
        {
          "output_type": "stream",
          "name": "stdout",
          "text": [
            "-- Test Result --\n",
            "* Agent1 = stochastic(model(7f78ebc391d0)) \n",
            "* Agent2 = agent-analysis-based\n",
            "Total :    10\n",
            "A1 Win:    10 (1.000) (avg.mov   21.1)\n",
            "A2 Win:     0 (0.000) (avg.mov    0.0)\n"
          ]
        },
        {
          "output_type": "execute_result",
          "data": {
            "text/plain": [
              "1.0"
            ]
          },
          "metadata": {},
          "execution_count": 13
        }
      ]
    },
    {
      "cell_type": "markdown",
      "source": [
        "## 직접 플레이 해보기\n",
        "agent2를 None으로 설정하면\n",
        "직접 게임을 해볼 수 있습니다.\n",
        "좌표는 x행 y열이면 `xy`로 입력합니다.\n",
        "(e.g. 5행3열 = `53`)"
      ],
      "metadata": {
        "id": "NzVgHQWQg_fz"
      }
    },
    {
      "cell_type": "code",
      "source": [
        "INDEX = 0 # Change to one of 0..len(policies)\n",
        "# Create Game\n",
        "m = Mock5(H, W)\n",
        "# Play (policies[INDEX] v.s. m5df.agent)\n",
        "m.play(\n",
        "  agent_policy(policies[INDEX]), # Agent1: policies[INDEX]\n",
        "  None)                                 # Agent2: User\n",
        "# Make a plot\n",
        "m.plot()\n",
        "plt.show()\n",
        "plt.close()"
      ],
      "metadata": {
        "id": "e-X3SrGDvgJ0"
      },
      "execution_count": null,
      "outputs": []
    }
  ]
}