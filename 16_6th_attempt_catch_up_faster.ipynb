{
  "nbformat": 4,
  "nbformat_minor": 0,
  "metadata": {
    "colab": {
      "name": "16_6th_attempt_catch_up_faster.ipynb",
      "provenance": [],
      "collapsed_sections": []
    },
    "kernelspec": {
      "name": "python3",
      "display_name": "Python 3"
    },
    "language_info": {
      "name": "python"
    },
    "accelerator": "GPU"
  },
  "cells": [
    {
      "cell_type": "markdown",
      "source": [
        "# 16. 6th Attempt: Catch Up Faster"
      ],
      "metadata": {
        "id": "GIpiExhpAAf5"
      }
    },
    {
      "cell_type": "markdown",
      "source": [
        "## 기보 읽어보기\n",
        "\n",
        "오목을 학습시키는 것은, 돌을 아무 곳이나 마구잡이로 두는 친구에게\n",
        "돌을 일렬로 놓으면 이긴다는 것을 가르치고,\n",
        "상대도 같은 목표를 가지고 있으니 그걸 생각하라고 가르치는 것과 같습니다.\n",
        "다만, 컴퓨터한테는 이런 말을 해주지도 못하고 알아듣지도 못해서\n",
        "문제입니다만.\n",
        "\n",
        "그래서 강화학습을 하면 직접 아무 곳이나 돌을 두다가 둘 중 누군가\n",
        "이겼다고 하면 '저렇게 둬야 되는구나'라고 배우도록 합니다.\n",
        "그런데 처음에 돌을 마구잡이로 던지는 사람이 있으면 흔히 오목을 둘 줄\n",
        "아는 사람은 그냥 구석에 일렬로 돌을 나열하고 게임을 끝내버리면 됩니다.\n",
        "그러면 이것을 보고 '저렇게 나열해야 이기구나'라는 것을 깨닫기야\n",
        "하겠지만, 이걸 굳이 직접 하면서 배울 필요는 없습니다.\n",
        "\n",
        "그래서 여기서는 본격적인 학습에 들어가기 전에\n",
        "몇몇 유형의 기보를 주고 학습하는 식으로 일종의 initialization을 한 뒤\n",
        "학습속도에 개선이 있는지 확인해봅니다.\n",
        "\n",
        "개선의 기준은 이전 실험과 비교를 하며,\n",
        "이전 실험에서는 약 1시간 동안 15000게임을 진행하였고,\n",
        "(Google Colab기준 1000 게임당 4분)\n",
        "학습 시작 후 16분이 지난 4000게임 쯤에서 mixed와의 승률 0%를 돌파,\n",
        "32분이 지난 8000게임 쯤부터 `pt`와의 승률이 50%를 바라보기\n",
        "시작했습니다."
      ],
      "metadata": {
        "id": "aZ3zOjZYsduz"
      }
    },
    {
      "cell_type": "markdown",
      "source": [
        "### Environment"
      ],
      "metadata": {
        "id": "kupt1drfAy13"
      }
    },
    {
      "cell_type": "code",
      "source": [
        "!rm -rf *\n",
        "!git clone https://github.com/lumiknit/mock5.py\n",
        "!mv mock5.py/mock5 .\n",
        "!mv mock5.py/gen2_record/gen.cpp .\n",
        "!mv mock5.py/gen2_record/read_record.py .\n",
        "!g++ -O2 -fopenmp -o gen gen.cpp"
      ],
      "metadata": {
        "id": "Qk8EfWVrAYND",
        "colab": {
          "base_uri": "https://localhost:8080/"
        },
        "outputId": "198fe41a-39d6-449e-897f-1392ccedfe96"
      },
      "execution_count": 2,
      "outputs": [
        {
          "output_type": "stream",
          "name": "stdout",
          "text": [
            "Cloning into 'mock5.py'...\n",
            "remote: Enumerating objects: 152, done.\u001b[K\n",
            "remote: Counting objects: 100% (152/152), done.\u001b[K\n",
            "remote: Compressing objects: 100% (101/101), done.\u001b[K\n",
            "remote: Total 152 (delta 74), reused 121 (delta 47), pack-reused 0\u001b[K\n",
            "Receiving objects: 100% (152/152), 40.10 KiB | 10.03 MiB/s, done.\n",
            "Resolving deltas: 100% (74/74), done.\n"
          ]
        }
      ]
    },
    {
      "cell_type": "code",
      "source": [
        "from mock5 import Mock5\n",
        "from mock5.analysis import Analysis as M5Analysis\n",
        "import mock5.agent_random as m5rand\n",
        "import mock5.agent_analysis_based as m5aa\n",
        "import mock5.agent_ad as m5ad\n",
        "import mock5.agent_pt as m5pt\n",
        "import mock5.agent_df as m5df\n",
        "\n",
        "import matplotlib.pyplot as plt\n",
        "\n",
        "import numpy as np\n",
        "\n",
        "import torch\n",
        "import torch.nn as nn\n",
        "import torch.optim as optim\n",
        "\n",
        "import os\n",
        "import time\n",
        "\n",
        "device = 'cuda' if torch.cuda.is_available() else 'cpu'\n",
        "print(\"Device: {}\".format(device))"
      ],
      "metadata": {
        "id": "FpluuOUEAYP2",
        "colab": {
          "base_uri": "https://localhost:8080/"
        },
        "outputId": "fedcaa7a-a7f3-4140-d0b9-8a997084df57"
      },
      "execution_count": 22,
      "outputs": [
        {
          "output_type": "stream",
          "name": "stdout",
          "text": [
            "Device: cuda\n"
          ]
        }
      ]
    },
    {
      "cell_type": "markdown",
      "source": [
        "### Board Size"
      ],
      "metadata": {
        "id": "Amy_A9TSKLcL"
      }
    },
    {
      "cell_type": "code",
      "source": [
        "# Board Size\n",
        "W = 15\n",
        "H = W"
      ],
      "metadata": {
        "id": "pzinkJGxAYSL"
      },
      "execution_count": 4,
      "outputs": []
    },
    {
      "cell_type": "markdown",
      "source": [
        "### Agent & Policy Transformer"
      ],
      "metadata": {
        "id": "9bCoGZBRA1SD"
      }
    },
    {
      "cell_type": "code",
      "source": [
        "def fn_name(fn):\n",
        "  if hasattr(fn, 'name'): return fn.name\n",
        "  else: return repr(fn)\n",
        "  \n",
        "def agent(pi, epsilon=0):\n",
        "  # pi must return array of non-negative values\n",
        "  def c(game):\n",
        "    w, h = game.width, game.height\n",
        "    m, p = np.ones(h * w), np.array(pi(game))\n",
        "    for i in range(h * w):\n",
        "      if game.board[i] != 0: m[i], p[i] = 0, 0\n",
        "    s = p.sum()\n",
        "    if np.random.uniform() < epsilon or s == 0:\n",
        "      s = m.sum()\n",
        "      if s == 0: return None, None # Cannot do anything\n",
        "      else: idx = np.random.choice(h * w, p=(m / s))\n",
        "    else: idx = np.random.choice(h * w, p=(p / s))\n",
        "    return idx // w, idx % w\n",
        "  c.name = 'stochastic({})'.format(fn_name(pi))\n",
        "  return c"
      ],
      "metadata": {
        "id": "rY1OR7XSBDZ6"
      },
      "execution_count": 5,
      "outputs": []
    },
    {
      "cell_type": "code",
      "source": [
        "def softmax(arr, tau=1.0):\n",
        "  arr = np.array(arr, dtype=np.float64)\n",
        "  arr /= tau\n",
        "  m = max(arr)\n",
        "  z = np.exp(arr - m)\n",
        "  return z / z.sum()\n",
        "\n",
        "def pt_softmax(policy, tau=1.0):\n",
        "  def p(game):\n",
        "    p = policy(game)\n",
        "    return softmax(p, tau=tau)\n",
        "  p.name = 'pt_softmax({},tau={})'.format(fn_name(policy), tau)\n",
        "  return p\n",
        "\n",
        "def pt_norm(policy):\n",
        "  def p(game):\n",
        "    p = policy(game)\n",
        "    return p / p.max()\n",
        "  p.name = 'pt_norm({})'.format(fn_name(policy))\n",
        "  return p\n",
        "\n",
        "def policy_uniform(game):\n",
        "  return np.ones(game.height * game.width)\n",
        "policy_uniform.name = 'uniform'"
      ],
      "metadata": {
        "id": "uyiWBuC5CPeU"
      },
      "execution_count": 6,
      "outputs": []
    },
    {
      "cell_type": "code",
      "source": [
        "def test_agents(num_game, agent1, agent2):\n",
        "  w1, w2 = 0, 0\n",
        "  c1, c2 = 0, 0\n",
        "  for i in range(num_game):\n",
        "    g = Mock5(H, W)\n",
        "    result = g.play(agent1, agent2,\n",
        "                    print_intermediate_state=False, print_messages=False)\n",
        "    if result == 1:\n",
        "      w1 += 1\n",
        "      c1 += len(g.history)\n",
        "    elif result == 2:\n",
        "      w2 += 1\n",
        "      c2 += len(g.history)\n",
        "  print(\"-- Test Result --\")\n",
        "  print(\"* Agent1 = {} \\n* Agent2 = {}\".format(\n",
        "      fn_name(agent1), fn_name(agent2)))\n",
        "  print(\"Total : {:5d}\".format(num_game))\n",
        "  print(\"A1 Win: {:5d} ({:5.3f}) (avg.mov {:6.1f})\".format(w1, w1 / num_game, c1 / max(1, w1)))\n",
        "  print(\"A2 Win: {:5d} ({:5.3f}) (avg.mov {:6.1f})\".format(w2, w2 / num_game, c2 / max(1, w2)))"
      ],
      "metadata": {
        "id": "akmuCGFUKJ2N"
      },
      "execution_count": 7,
      "outputs": []
    },
    {
      "cell_type": "code",
      "source": [
        "def agent_mixed(game):\n",
        "  a = np.random.uniform()\n",
        "  if a < 0.4: return m5aa.agent(game)\n",
        "  elif a < 0.8: return m5ad.agent(game)\n",
        "  elif a < 0.9: return m5pt.agent(game)\n",
        "  else: return m5df.agent(game)\n",
        "agent_mixed.name = 'agent-mixed-analysis-based'"
      ],
      "metadata": {
        "id": "KjAMj_b-RdQE"
      },
      "execution_count": 8,
      "outputs": []
    },
    {
      "cell_type": "markdown",
      "source": [
        "### Neural Network"
      ],
      "metadata": {
        "id": "xoa7cnYnI5cJ"
      }
    },
    {
      "cell_type": "code",
      "source": [
        "class Flatten(nn.Module):\n",
        "  def forward(self, x):\n",
        "    if len(x.shape) == 3: return x.view(-1)\n",
        "    else: return x.flatten(1, -1)\n",
        "\n",
        "class FixedTempSoftmax(nn.Module):\n",
        "  def __init__(self, dim, tau):\n",
        "    super(FixedTempSoftmax, self).__init__()\n",
        "    self.dim = dim\n",
        "    self.tau = np.exp(tau)\n",
        "  def forward(self, x):\n",
        "    return nn.functional.softmax(x / self.tau, self.dim)\n",
        "\n",
        "class TempSoftmax(nn.Module):\n",
        "  def __init__(self, dim, tau=0):\n",
        "    super(TempSoftmax, self).__init__()\n",
        "    self.dim = dim\n",
        "    self.tau = nn.Parameter(torch.tensor([tau], dtype=torch.float))\n",
        "  def forward(self, x):\n",
        "    return nn.functional.softmax(x / torch.exp(self.tau), self.dim)"
      ],
      "metadata": {
        "id": "FtkrIhffI-qU"
      },
      "execution_count": 9,
      "outputs": []
    },
    {
      "cell_type": "code",
      "source": [
        "## nn\n",
        "def new_nn():\n",
        "  net = nn.Sequential(\n",
        "      # Conv01\n",
        "      nn.Conv2d(3, 128, 3, padding='same'),\n",
        "      nn.GELU(),\n",
        "      # Conv02\n",
        "      nn.Conv2d(128, 64, 3, padding='same'),\n",
        "      nn.GELU(),\n",
        "      # Conv03\n",
        "      nn.Conv2d(64, 32, 3, padding='same'),\n",
        "      nn.GELU(),\n",
        "      # Conv04\n",
        "      nn.Conv2d(32, 32, 3, padding='same'),\n",
        "      nn.GELU(),\n",
        "      # Conv05\n",
        "      nn.Conv2d(32, 32, 3, padding='same'),\n",
        "      nn.GELU(),\n",
        "      # Conv06\n",
        "      nn.Conv2d(32, 32, 3, padding='same'),\n",
        "      nn.GELU(),\n",
        "      # Conv07\n",
        "      nn.Conv2d(32, 1, 5, padding='same'),\n",
        "      nn.GELU(),\n",
        "      # Flatten\n",
        "      Flatten(),\n",
        "      # Softmax\n",
        "      FixedTempSoftmax(tau=0, dim=-1)\n",
        "  ).to(device)\n",
        "  return net\n",
        "\n",
        "def init_nn():\n",
        "  global policy, policy_backs\n",
        "  policy = new_nn()\n",
        "  policy_backs = []\n",
        "  save_policy()\n",
        "\n",
        "def save_policy():\n",
        "  global policy_backs\n",
        "  n = new_nn()\n",
        "  n.load_state_dict(policy.state_dict())\n",
        "  policy_backs = (policy_backs + [n])[-10: ]"
      ],
      "metadata": {
        "id": "7W-cUdwvJAfs"
      },
      "execution_count": 10,
      "outputs": []
    },
    {
      "cell_type": "code",
      "source": [
        "def policy_model(net):\n",
        "  def c(game):\n",
        "    X = game.tensor(dtype=torch.float).unsqueeze(dim=0).to(device)\n",
        "    with torch.no_grad():\n",
        "      p = net(X)\n",
        "    arr = p.squeeze().to('cpu').numpy()\n",
        "    return arr\n",
        "  c.name = 'model({:x})'.format(id(net))\n",
        "  return c"
      ],
      "metadata": {
        "id": "XcHz4XB4Jp_N"
      },
      "execution_count": 11,
      "outputs": []
    },
    {
      "cell_type": "code",
      "source": [
        "def loss_fn(policy, v):\n",
        "  return - (v * torch.log(1e-8 + policy)).mean()"
      ],
      "metadata": {
        "id": "UOy2kTj4JuO7"
      },
      "execution_count": 12,
      "outputs": []
    },
    {
      "cell_type": "code",
      "source": [
        "class Stat:\n",
        "  def __init__(self, n=0, w=0, l=0, d=0): self.n, self.w, self.l, self.d = n, w, l, d\n",
        "  def dup(self):\n",
        "    return Stat(self.n, self.w, self.l, self.d)\n",
        "  def __sub__(self, other):\n",
        "    return Stat(self.n - other.n, self.w - other.w, self.l - other.l, self.d - other.d)\n",
        "  def win(self):\n",
        "    self.n += 1\n",
        "    self.w += 1\n",
        "  def lose(self):\n",
        "    self.n += 1\n",
        "    self.l += 1\n",
        "  def draw(self):\n",
        "    self.n += 1\n",
        "    self.d += 1\n",
        "  def update_by_result(self, result):\n",
        "    self.n += 1\n",
        "    if result == 1: self.w += 1\n",
        "    elif result > 1: self.l += 1\n",
        "    else: self.d += 1\n",
        "  def win_rate(self):\n",
        "    if self.n >= 1: return (self.w + 0.5 * self.d) / self.n\n",
        "    else: return np.nan"
      ],
      "metadata": {
        "id": "ecNSDhMdJ1WH"
      },
      "execution_count": 13,
      "outputs": []
    },
    {
      "cell_type": "markdown",
      "source": [
        "여기서부터는 data를 실제 플레이로 만들 수도 있고\n",
        "임의로 가져올 수 있으므로,\n",
        "agent 등을 대신하여 data loader 등을 받습니다.\n",
        "\n",
        "직접 게임을 진행한 경우에는 이긴 사람의 기보만을\n",
        "'좋은 수'라고 판단하고 reward를 주지만,\n",
        "알고리즘으로 생성된 기보의 경우에는\n",
        "양측이 모두 최선의 수를 두었다고 판단하고\n",
        "모두 positive reward를 주도록 합니다.\n",
        "(즉, 좋은 수 나쁜 수를 떠나서 일단은 이런 느낌으로\n",
        "돌을 둬야하는구나를 학습시킵니다.)"
      ],
      "metadata": {
        "id": "4RsS1uJJExUL"
      }
    },
    {
      "cell_type": "code",
      "source": [
        "def append_game_replay(Xs, As, Vs, gamma, game, result, winner_only=True):\n",
        "  reward = 1 if result != 0 else 0.3\n",
        "  # Append to Batch\n",
        "  for f in range(2):\n",
        "    for r in range(4):\n",
        "      g = game.replay(angle=r, flip=f)\n",
        "      while len(g.history) > 0:\n",
        "        a = g.history[-1]\n",
        "        g.undo()\n",
        "        if not winner_only or g.player == 3 - game.player:\n",
        "          Xs.append(g.tensor())\n",
        "          As.append(a)\n",
        "          Vs.append(reward)\n",
        "        reward *= gamma"
      ],
      "metadata": {
        "id": "kwcqOz7ES-tS"
      },
      "execution_count": 14,
      "outputs": []
    },
    {
      "cell_type": "code",
      "source": [
        "import os\n",
        "from read_record import file_to_int_pair_iter\n",
        "\n",
        "def gen_episode_by_generator(num_game, rnd):\n",
        "  def generator(Xs, As, Vs, gamma, stat):\n",
        "    filename = \"temp.data\"\n",
        "    os.system(\"./gen {} {} {} {} {}\".format(filename, num_game, H, W, rnd))\n",
        "    i_iter = file_to_int_pair_iter(filename)\n",
        "    left = 0\n",
        "    game, result = None, None\n",
        "    for i0, i1 in i_iter:\n",
        "      if left <= 0:\n",
        "        game = Mock5(H, W)\n",
        "        result, left = i0, i1\n",
        "      else:\n",
        "        left -= 1\n",
        "        game.place_stone_at_index(i0)\n",
        "      if left == 0:\n",
        "        if result != game.check_win():\n",
        "          raise ValueError\n",
        "        append_game_replay(Xs, As, Vs, gamma, game, result, winner_only=False)\n",
        "    return num_game\n",
        "  return generator"
      ],
      "metadata": {
        "id": "k-64UZAiQZ0K"
      },
      "execution_count": 15,
      "outputs": []
    },
    {
      "cell_type": "code",
      "source": [
        "def gen_episode_by_play(\n",
        "    agent1,\n",
        "    agent2\n",
        "):\n",
        "  def generator(Xs, As, Vs, gamma, stat):\n",
        "    # Run Game\n",
        "    game = Mock5(H, W)\n",
        "    result = game.play(agent1, agent2,\n",
        "      print_intermediate_state=False, print_messages=False)\n",
        "    # Make reward\n",
        "    stat.update_by_result(result)\n",
        "    append_game_replay(Xs, As, Vs, gamma, game, result)\n",
        "    return 1\n",
        "  return generator"
      ],
      "metadata": {
        "id": "2L3IqIR0FSmC"
      },
      "execution_count": 16,
      "outputs": []
    },
    {
      "cell_type": "code",
      "source": [
        "# REINFORCE\n",
        "def learn(\n",
        "    opt,\n",
        "    n_episode,\n",
        "    gen_episode, #: take (Xs, As, Vs, gamma, stat)\n",
        "    n_epoch,\n",
        "    gamma,\n",
        "    batch_size,\n",
        "    interval_stat\n",
        "):\n",
        "  stat = Stat()\n",
        "  last_stat = stat.dup()\n",
        "  last_stat_epi = 0\n",
        "  loss_inc = 0\n",
        "  Xs, As, Vs = [], [], []\n",
        "  epi = 0\n",
        "  while epi < n_episode:\n",
        "    # Generate episode\n",
        "    inc_epi = gen_episode(Xs, As, Vs, gamma, stat)\n",
        "    if type(inc_epi) is int: epi += inc_epi\n",
        "    # If batch is full enough, perform gradient ascent\n",
        "    if len(Xs) >= batch_size:\n",
        "      # Tensor-fy\n",
        "      X = torch.stack(Xs)\n",
        "      X += (torch.rand(X.shape) - 0.5) * 0.01\n",
        "      X = X.to(device)\n",
        "      A = torch.tensor(As).unsqueeze(dim=1).to(device)\n",
        "      V = torch.tensor(Vs, dtype=torch.float).to(device)\n",
        "      Xs, As, Vs = [], [], []\n",
        "      # Learn\n",
        "      loss_list = []\n",
        "      for e in range(n_epoch):\n",
        "        opt.zero_grad()\n",
        "        pi_s = policy(X)\n",
        "        pi_sa = pi_s.gather(1, A).squeeze(dim=1)\n",
        "        loss = loss_fn(pi_sa, V)\n",
        "        loss.backward()\n",
        "        opt.step()\n",
        "        loss_list.append(loss.mean().item())\n",
        "      loss_inc += loss_list[0] - loss_list[-1]\n",
        "      # Print status and evaluate\n",
        "      if epi - last_stat_epi >= interval_stat:\n",
        "        save_policy()\n",
        "        print(\"----------\")\n",
        "        print(\"Ep #{:<6d} Loss Change Accum {:13.10f}\".format(\n",
        "          epi, loss_inc))\n",
        "        print(\"  Win Rate {:8.4f}% ({}w + {}d + {}l = {})\".format(\n",
        "            100 * stat.win_rate(), stat.w, stat.d, stat.l, stat.n))\n",
        "        dstat = stat - last_stat\n",
        "        print(\"   WR Diff {:8.4f}% ({}w + {}d + {}l = {})\".format(\n",
        "            100 * dstat.win_rate(), dstat.w, dstat.d, dstat.l, dstat.n))\n",
        "        test_a = agent(policy_model(policy))\n",
        "        #test_agents(10, test_a, m5rand.agent)\n",
        "        test_agents(10, test_a, m5pt.agent)\n",
        "        last_stat, last_stat_epi = stat.dup(), epi\n",
        "        loss_inc = 0"
      ],
      "metadata": {
        "id": "uDl_3EdbJ65E"
      },
      "execution_count": 17,
      "outputs": []
    },
    {
      "cell_type": "markdown",
      "source": [
        "### Learning\n",
        "\n",
        "이전에 약 1시간 동안 15000개의 게임으로 배운 것과 동일하지만,\n",
        "처음 1500개의 게임은 직접 플레이 하지 않고\n",
        "알고리즘으로 생성된 기보를 읽는 식으로 진행합니다."
      ],
      "metadata": {
        "id": "PRdVhpVD4Z8N"
      }
    },
    {
      "cell_type": "code",
      "source": [
        "def run():\n",
        "  init_nn()\n",
        "\n",
        "  timer = time.process_time()\n",
        "\n",
        "  opt = optim.Adam(policy.parameters(),\n",
        "                  lr=2e-3,\n",
        "                  weight_decay=1e-5)\n",
        "  \n",
        "  learn(\n",
        "      opt = opt,\n",
        "      n_episode = 1500,\n",
        "      gen_episode = gen_episode_by_generator(1, np.random.uniform() * 0.04),\n",
        "      n_epoch = 2,\n",
        "      gamma = 0.995,\n",
        "      batch_size = 1,\n",
        "      interval_stat = 200)\n",
        "  \n",
        "  print(\"\\n#-- Pre Train : {:.4f} sec elapsed\\n\".format(time.process_time() - timer))\n",
        "  timer = time.process_time()\n",
        "  \n",
        "  #opt = optim.Adam(policy.parameters(),\n",
        "  #                lr=5e-4,\n",
        "  #                weight_decay=1e-8)\n",
        "  opt = optim.SGD(policy.parameters(),\n",
        "                  lr=1e-2,\n",
        "                  momentum=0.8,\n",
        "                  weight_decay=1e-6)\n",
        "\n",
        "  agent1 = agent(policy_model(policy))\n",
        "  agent2 = agent_mixed\n",
        "  learn(\n",
        "      opt = opt,\n",
        "      n_episode = 13500,\n",
        "      gen_episode = gen_episode_by_play(agent1, agent2),\n",
        "      n_epoch = 2,\n",
        "      gamma = 0.995,\n",
        "      batch_size = 50,\n",
        "      interval_stat = 500)\n",
        "  \n",
        "  print(\"\\n#-- Main Train : {:.4f} sec elapsed\\n\".format(time.process_time() - timer))\n",
        "  timer = time.process_time()\n",
        "\n",
        "run()"
      ],
      "metadata": {
        "id": "BN0Y2vM2KnsT",
        "colab": {
          "base_uri": "https://localhost:8080/"
        },
        "outputId": "ca2f6071-ff3c-44f0-a2de-2e298aecbc87"
      },
      "execution_count": 30,
      "outputs": [
        {
          "output_type": "stream",
          "name": "stdout",
          "text": [
            "----------\n",
            "Ep #200    Loss Change Accum  9.9980560541\n",
            "  Win Rate      nan% (0w + 0d + 0l = 0)\n",
            "   WR Diff      nan% (0w + 0d + 0l = 0)\n",
            "-- Test Result --\n",
            "* Agent1 = stochastic(model(7fb8dd24cd50)) \n",
            "* Agent2 = agent-pt\n",
            "Total :    10\n",
            "A1 Win:     0 (0.000) (avg.mov    0.0)\n",
            "A2 Win:    10 (1.000) (avg.mov   13.8)\n",
            "----------\n",
            "Ep #400    Loss Change Accum 21.8656019866\n",
            "  Win Rate      nan% (0w + 0d + 0l = 0)\n",
            "   WR Diff      nan% (0w + 0d + 0l = 0)\n",
            "-- Test Result --\n",
            "* Agent1 = stochastic(model(7fb8dd24cd50)) \n",
            "* Agent2 = agent-pt\n",
            "Total :    10\n",
            "A1 Win:     0 (0.000) (avg.mov    0.0)\n",
            "A2 Win:    10 (1.000) (avg.mov   14.6)\n",
            "----------\n",
            "Ep #600    Loss Change Accum 18.6820520610\n",
            "  Win Rate      nan% (0w + 0d + 0l = 0)\n",
            "   WR Diff      nan% (0w + 0d + 0l = 0)\n",
            "-- Test Result --\n",
            "* Agent1 = stochastic(model(7fb8dd24cd50)) \n",
            "* Agent2 = agent-pt\n",
            "Total :    10\n",
            "A1 Win:     0 (0.000) (avg.mov    0.0)\n",
            "A2 Win:    10 (1.000) (avg.mov   18.6)\n",
            "----------\n",
            "Ep #800    Loss Change Accum 21.7962926179\n",
            "  Win Rate      nan% (0w + 0d + 0l = 0)\n",
            "   WR Diff      nan% (0w + 0d + 0l = 0)\n",
            "-- Test Result --\n",
            "* Agent1 = stochastic(model(7fb8dd24cd50)) \n",
            "* Agent2 = agent-pt\n",
            "Total :    10\n",
            "A1 Win:     0 (0.000) (avg.mov    0.0)\n",
            "A2 Win:    10 (1.000) (avg.mov   17.4)\n",
            "----------\n",
            "Ep #1000   Loss Change Accum 19.0302064270\n",
            "  Win Rate      nan% (0w + 0d + 0l = 0)\n",
            "   WR Diff      nan% (0w + 0d + 0l = 0)\n",
            "-- Test Result --\n",
            "* Agent1 = stochastic(model(7fb8dd24cd50)) \n",
            "* Agent2 = agent-pt\n",
            "Total :    10\n",
            "A1 Win:     0 (0.000) (avg.mov    0.0)\n",
            "A2 Win:    10 (1.000) (avg.mov   26.3)\n",
            "----------\n",
            "Ep #1200   Loss Change Accum 16.8577378094\n",
            "  Win Rate      nan% (0w + 0d + 0l = 0)\n",
            "   WR Diff      nan% (0w + 0d + 0l = 0)\n",
            "-- Test Result --\n",
            "* Agent1 = stochastic(model(7fb8dd24cd50)) \n",
            "* Agent2 = agent-pt\n",
            "Total :    10\n",
            "A1 Win:     0 (0.000) (avg.mov    0.0)\n",
            "A2 Win:    10 (1.000) (avg.mov   27.6)\n",
            "----------\n",
            "Ep #1400   Loss Change Accum 19.1614625454\n",
            "  Win Rate      nan% (0w + 0d + 0l = 0)\n",
            "   WR Diff      nan% (0w + 0d + 0l = 0)\n",
            "-- Test Result --\n",
            "* Agent1 = stochastic(model(7fb8dd24cd50)) \n",
            "* Agent2 = agent-pt\n",
            "Total :    10\n",
            "A1 Win:     0 (0.000) (avg.mov    0.0)\n",
            "A2 Win:    10 (1.000) (avg.mov   16.5)\n",
            "\n",
            "#-- Pre Train : 111.2753 sec elapsed\n",
            "\n",
            "----------\n",
            "Ep #500    Loss Change Accum 37.4369423985\n",
            "  Win Rate   0.8000% (4w + 0d + 496l = 500)\n",
            "   WR Diff   0.8000% (4w + 0d + 496l = 500)\n",
            "-- Test Result --\n",
            "* Agent1 = stochastic(model(7fb8dd24cd50)) \n",
            "* Agent2 = agent-pt\n",
            "Total :    10\n",
            "A1 Win:     0 (0.000) (avg.mov    0.0)\n",
            "A2 Win:    10 (1.000) (avg.mov   20.0)\n",
            "----------\n",
            "Ep #1000   Loss Change Accum 24.7178333998\n",
            "  Win Rate   1.9000% (19w + 0d + 981l = 1000)\n",
            "   WR Diff   3.0000% (15w + 0d + 485l = 500)\n",
            "-- Test Result --\n",
            "* Agent1 = stochastic(model(7fb8dd24cd50)) \n",
            "* Agent2 = agent-pt\n",
            "Total :    10\n",
            "A1 Win:     1 (0.100) (avg.mov   35.0)\n",
            "A2 Win:     9 (0.900) (avg.mov   33.9)\n",
            "----------\n",
            "Ep #1500   Loss Change Accum 21.8057876527\n",
            "  Win Rate   2.3333% (35w + 0d + 1465l = 1500)\n",
            "   WR Diff   3.2000% (16w + 0d + 484l = 500)\n",
            "-- Test Result --\n",
            "* Agent1 = stochastic(model(7fb8dd24cd50)) \n",
            "* Agent2 = agent-pt\n",
            "Total :    10\n",
            "A1 Win:     0 (0.000) (avg.mov    0.0)\n",
            "A2 Win:    10 (1.000) (avg.mov   27.5)\n",
            "----------\n",
            "Ep #2000   Loss Change Accum 18.7578130364\n",
            "  Win Rate   3.0000% (60w + 0d + 1940l = 2000)\n",
            "   WR Diff   5.0000% (25w + 0d + 475l = 500)\n",
            "-- Test Result --\n",
            "* Agent1 = stochastic(model(7fb8dd24cd50)) \n",
            "* Agent2 = agent-pt\n",
            "Total :    10\n",
            "A1 Win:     1 (0.100) (avg.mov   52.0)\n",
            "A2 Win:     9 (0.900) (avg.mov   27.2)\n",
            "----------\n",
            "Ep #2500   Loss Change Accum 17.1312409341\n",
            "  Win Rate   3.3200% (83w + 0d + 2417l = 2500)\n",
            "   WR Diff   4.6000% (23w + 0d + 477l = 500)\n",
            "-- Test Result --\n",
            "* Agent1 = stochastic(model(7fb8dd24cd50)) \n",
            "* Agent2 = agent-pt\n",
            "Total :    10\n",
            "A1 Win:     1 (0.100) (avg.mov   33.0)\n",
            "A2 Win:     9 (0.900) (avg.mov   34.4)\n",
            "----------\n",
            "Ep #3000   Loss Change Accum 16.8937319219\n",
            "  Win Rate   3.6000% (108w + 0d + 2892l = 3000)\n",
            "   WR Diff   5.0000% (25w + 0d + 475l = 500)\n",
            "-- Test Result --\n",
            "* Agent1 = stochastic(model(7fb8dd24cd50)) \n",
            "* Agent2 = agent-pt\n",
            "Total :    10\n",
            "A1 Win:     4 (0.400) (avg.mov   25.5)\n",
            "A2 Win:     6 (0.600) (avg.mov   32.3)\n",
            "----------\n",
            "Ep #3500   Loss Change Accum 16.1729882956\n",
            "  Win Rate   4.4571% (156w + 0d + 3344l = 3500)\n",
            "   WR Diff   9.6000% (48w + 0d + 452l = 500)\n",
            "-- Test Result --\n",
            "* Agent1 = stochastic(model(7fb8dd24cd50)) \n",
            "* Agent2 = agent-pt\n",
            "Total :    10\n",
            "A1 Win:     5 (0.500) (avg.mov   31.8)\n",
            "A2 Win:     5 (0.500) (avg.mov   39.0)\n",
            "----------\n",
            "Ep #4000   Loss Change Accum 12.8876144588\n",
            "  Win Rate   4.8500% (194w + 0d + 3806l = 4000)\n",
            "   WR Diff   7.6000% (38w + 0d + 462l = 500)\n",
            "-- Test Result --\n",
            "* Agent1 = stochastic(model(7fb8dd24cd50)) \n",
            "* Agent2 = agent-pt\n",
            "Total :    10\n",
            "A1 Win:     3 (0.300) (avg.mov   23.0)\n",
            "A2 Win:     7 (0.700) (avg.mov   45.1)\n",
            "----------\n",
            "Ep #4500   Loss Change Accum 15.4819929600\n",
            "  Win Rate   5.4444% (245w + 0d + 4255l = 4500)\n",
            "   WR Diff  10.2000% (51w + 0d + 449l = 500)\n",
            "-- Test Result --\n",
            "* Agent1 = stochastic(model(7fb8dd24cd50)) \n",
            "* Agent2 = agent-pt\n",
            "Total :    10\n",
            "A1 Win:     4 (0.400) (avg.mov   26.0)\n",
            "A2 Win:     6 (0.600) (avg.mov   29.5)\n",
            "----------\n",
            "Ep #5000   Loss Change Accum 14.7938131839\n",
            "  Win Rate   5.7400% (287w + 0d + 4713l = 5000)\n",
            "   WR Diff   8.4000% (42w + 0d + 458l = 500)\n",
            "-- Test Result --\n",
            "* Agent1 = stochastic(model(7fb8dd24cd50)) \n",
            "* Agent2 = agent-pt\n",
            "Total :    10\n",
            "A1 Win:     1 (0.100) (avg.mov   23.0)\n",
            "A2 Win:     9 (0.900) (avg.mov   35.9)\n",
            "----------\n",
            "Ep #5500   Loss Change Accum 12.5484350622\n",
            "  Win Rate   6.3273% (348w + 0d + 5152l = 5500)\n",
            "   WR Diff  12.2000% (61w + 0d + 439l = 500)\n",
            "-- Test Result --\n",
            "* Agent1 = stochastic(model(7fb8dd24cd50)) \n",
            "* Agent2 = agent-pt\n",
            "Total :    10\n",
            "A1 Win:     2 (0.200) (avg.mov   44.5)\n",
            "A2 Win:     8 (0.800) (avg.mov   38.9)\n",
            "----------\n",
            "Ep #6000   Loss Change Accum 11.7269603610\n",
            "  Win Rate   6.7667% (406w + 0d + 5594l = 6000)\n",
            "   WR Diff  11.6000% (58w + 0d + 442l = 500)\n",
            "-- Test Result --\n",
            "* Agent1 = stochastic(model(7fb8dd24cd50)) \n",
            "* Agent2 = agent-pt\n",
            "Total :    10\n",
            "A1 Win:     4 (0.400) (avg.mov   24.8)\n",
            "A2 Win:     6 (0.600) (avg.mov   32.8)\n",
            "----------\n",
            "Ep #6500   Loss Change Accum 13.7012003511\n",
            "  Win Rate   6.9846% (454w + 0d + 6046l = 6500)\n",
            "   WR Diff   9.6000% (48w + 0d + 452l = 500)\n",
            "-- Test Result --\n",
            "* Agent1 = stochastic(model(7fb8dd24cd50)) \n",
            "* Agent2 = agent-pt\n",
            "Total :    10\n",
            "A1 Win:     3 (0.300) (avg.mov   23.0)\n",
            "A2 Win:     7 (0.700) (avg.mov   30.1)\n",
            "----------\n",
            "Ep #7000   Loss Change Accum 12.7439011931\n",
            "  Win Rate   7.3286% (513w + 0d + 6487l = 7000)\n",
            "   WR Diff  11.8000% (59w + 0d + 441l = 500)\n",
            "-- Test Result --\n",
            "* Agent1 = stochastic(model(7fb8dd24cd50)) \n",
            "* Agent2 = agent-pt\n",
            "Total :    10\n",
            "A1 Win:     2 (0.200) (avg.mov   30.0)\n",
            "A2 Win:     8 (0.800) (avg.mov   38.4)\n",
            "----------\n",
            "Ep #7500   Loss Change Accum 12.8342794180\n",
            "  Win Rate   7.4933% (562w + 0d + 6938l = 7500)\n",
            "   WR Diff   9.8000% (49w + 0d + 451l = 500)\n",
            "-- Test Result --\n",
            "* Agent1 = stochastic(model(7fb8dd24cd50)) \n",
            "* Agent2 = agent-pt\n",
            "Total :    10\n",
            "A1 Win:     6 (0.600) (avg.mov   30.2)\n",
            "A2 Win:     4 (0.400) (avg.mov   56.8)\n",
            "----------\n",
            "Ep #8001   Loss Change Accum 10.7450768948\n",
            "  Win Rate   7.9740% (638w + 0d + 7363l = 8001)\n",
            "   WR Diff  15.1697% (76w + 0d + 425l = 501)\n",
            "-- Test Result --\n",
            "* Agent1 = stochastic(model(7fb8dd24cd50)) \n",
            "* Agent2 = agent-pt\n",
            "Total :    10\n",
            "A1 Win:     3 (0.300) (avg.mov   37.3)\n",
            "A2 Win:     7 (0.700) (avg.mov   40.4)\n",
            "----------\n",
            "Ep #8501   Loss Change Accum 11.3824729025\n",
            "  Win Rate   8.4931% (722w + 0d + 7779l = 8501)\n",
            "   WR Diff  16.8000% (84w + 0d + 416l = 500)\n",
            "-- Test Result --\n",
            "* Agent1 = stochastic(model(7fb8dd24cd50)) \n",
            "* Agent2 = agent-pt\n",
            "Total :    10\n",
            "A1 Win:     3 (0.300) (avg.mov   29.0)\n",
            "A2 Win:     7 (0.700) (avg.mov   27.7)\n",
            "----------\n",
            "Ep #9001   Loss Change Accum 11.0662233233\n",
            "  Win Rate   8.7213% (785w + 0d + 8216l = 9001)\n",
            "   WR Diff  12.6000% (63w + 0d + 437l = 500)\n",
            "-- Test Result --\n",
            "* Agent1 = stochastic(model(7fb8dd24cd50)) \n",
            "* Agent2 = agent-pt\n",
            "Total :    10\n",
            "A1 Win:     4 (0.400) (avg.mov   33.8)\n",
            "A2 Win:     6 (0.600) (avg.mov   48.8)\n",
            "----------\n",
            "Ep #9501   Loss Change Accum 11.5142830908\n",
            "  Win Rate   8.9149% (847w + 0d + 8654l = 9501)\n",
            "   WR Diff  12.4000% (62w + 0d + 438l = 500)\n",
            "-- Test Result --\n",
            "* Agent1 = stochastic(model(7fb8dd24cd50)) \n",
            "* Agent2 = agent-pt\n",
            "Total :    10\n",
            "A1 Win:     3 (0.300) (avg.mov   28.3)\n",
            "A2 Win:     7 (0.700) (avg.mov   34.1)\n",
            "----------\n",
            "Ep #10001  Loss Change Accum 11.4274282753\n",
            "  Win Rate   9.1091% (911w + 0d + 9090l = 10001)\n",
            "   WR Diff  12.8000% (64w + 0d + 436l = 500)\n",
            "-- Test Result --\n",
            "* Agent1 = stochastic(model(7fb8dd24cd50)) \n",
            "* Agent2 = agent-pt\n",
            "Total :    10\n",
            "A1 Win:     4 (0.400) (avg.mov   23.5)\n",
            "A2 Win:     6 (0.600) (avg.mov   40.7)\n",
            "----------\n",
            "Ep #10501  Loss Change Accum  8.7745301723\n",
            "  Win Rate   9.3420% (981w + 0d + 9520l = 10501)\n",
            "   WR Diff  14.0000% (70w + 0d + 430l = 500)\n",
            "-- Test Result --\n",
            "* Agent1 = stochastic(model(7fb8dd24cd50)) \n",
            "* Agent2 = agent-pt\n",
            "Total :    10\n",
            "A1 Win:     2 (0.200) (avg.mov   42.0)\n",
            "A2 Win:     8 (0.800) (avg.mov   39.2)\n",
            "----------\n",
            "Ep #11001  Loss Change Accum 10.6646245420\n",
            "  Win Rate   9.4446% (1039w + 0d + 9962l = 11001)\n",
            "   WR Diff  11.6000% (58w + 0d + 442l = 500)\n",
            "-- Test Result --\n",
            "* Agent1 = stochastic(model(7fb8dd24cd50)) \n",
            "* Agent2 = agent-pt\n",
            "Total :    10\n",
            "A1 Win:     1 (0.100) (avg.mov   25.0)\n",
            "A2 Win:     9 (0.900) (avg.mov   40.1)\n",
            "----------\n",
            "Ep #11501  Loss Change Accum 10.1369973719\n",
            "  Win Rate   9.7296% (1119w + 0d + 10382l = 11501)\n",
            "   WR Diff  16.0000% (80w + 0d + 420l = 500)\n",
            "-- Test Result --\n",
            "* Agent1 = stochastic(model(7fb8dd24cd50)) \n",
            "* Agent2 = agent-pt\n",
            "Total :    10\n",
            "A1 Win:     3 (0.300) (avg.mov   32.0)\n",
            "A2 Win:     7 (0.700) (avg.mov   37.0)\n",
            "----------\n",
            "Ep #12001  Loss Change Accum  9.6663322151\n",
            "  Win Rate  10.0325% (1204w + 0d + 10797l = 12001)\n",
            "   WR Diff  17.0000% (85w + 0d + 415l = 500)\n",
            "-- Test Result --\n",
            "* Agent1 = stochastic(model(7fb8dd24cd50)) \n",
            "* Agent2 = agent-pt\n",
            "Total :    10\n",
            "A1 Win:     4 (0.400) (avg.mov   35.8)\n",
            "A2 Win:     6 (0.600) (avg.mov   25.0)\n",
            "----------\n",
            "Ep #12501  Loss Change Accum  9.4011170119\n",
            "  Win Rate  10.3512% (1294w + 0d + 11207l = 12501)\n",
            "   WR Diff  18.0000% (90w + 0d + 410l = 500)\n",
            "-- Test Result --\n",
            "* Agent1 = stochastic(model(7fb8dd24cd50)) \n",
            "* Agent2 = agent-pt\n",
            "Total :    10\n",
            "A1 Win:     4 (0.400) (avg.mov   35.5)\n",
            "A2 Win:     6 (0.600) (avg.mov   58.0)\n",
            "----------\n",
            "Ep #13001  Loss Change Accum  9.4016312957\n",
            "  Win Rate  10.6838% (1389w + 0d + 11612l = 13001)\n",
            "   WR Diff  19.0000% (95w + 0d + 405l = 500)\n",
            "-- Test Result --\n",
            "* Agent1 = stochastic(model(7fb8dd24cd50)) \n",
            "* Agent2 = agent-pt\n",
            "Total :    10\n",
            "A1 Win:     3 (0.300) (avg.mov   26.3)\n",
            "A2 Win:     7 (0.700) (avg.mov   41.4)\n",
            "\n",
            "#-- Main Train : 3338.0505 sec elapsed\n",
            "\n"
          ]
        }
      ]
    },
    {
      "cell_type": "markdown",
      "source": [
        "## Evaluation\n"
      ],
      "metadata": {
        "id": "G_gTY1l54vYN"
      }
    },
    {
      "cell_type": "markdown",
      "source": [
        "챕터 15의 학습 경과와 비교하였을 때,\n",
        "`mixed`와의\n",
        "windowed win rate는 다음과 같습니다.\n",
        "\n",
        "| #Ep | W/O pretrain | W/ pretrain |\n",
        "|----:|-------------:|------------:|\n",
        "|  500| 0.00%| -|\n",
        "| 1000| 0.00%| -|\n",
        "| 1500| 0.00%| -|\n",
        "| 2000| 0.00%| 0.80%|\n",
        "| 2500| 0.00%| 3.00%|\n",
        "| 3000| 0.00%| 3.20%|\n",
        "| 3500| 0.00%| 5.00%|\n",
        "| 4000| 0.20%| 4.60%|\n",
        "| 4500| 0.20%| 5.00%|\n",
        "| 5000| 0.00%| 9.60%|\n",
        "| 5500| 0.20%| 7.60%|\n",
        "| 6000| 0.80%| 10.20%|\n",
        "| 6500| 1.19%| 8.40%|\n",
        "| 7000| 3.20%| 12.20%|\n",
        "| 7500| 3.20%| 11.60%|\n",
        "| 8000| 5.17%| 9.60%|\n",
        "| 8500| 6.39%| 11.80%|\n",
        "| 9000| 5.60%| 9.80%|\n",
        "| 9500| 9.16%| 15.17%|\n",
        "|10000| 8.38%| 16.80%|\n",
        "|10500| 11.78%| 12.60%|\n",
        "|11000| 12.38%| 12.40%|\n",
        "|11500| 13.55%| 12.80%|\n",
        "|12000| 11.60%| 14.00%|\n",
        "|12500| 15.34%| 11.60%|\n",
        "|13000| 13.60%| 16.00%|\n",
        "|13500| 17.56%| 17.00%|\n",
        "|14000| 15.20%| 18.00%|\n",
        "|14500| 19.40%| 19.00%|\n",
        "\n",
        "기보학습 없이 강화학습을 시작한 경우에는\n",
        "약 4000번의 게임을 진행하고 나서야 처음으로\n",
        "승리하는 경우가 몇번 나타나지만,\n",
        "기보를 일부 넣어준 경우에는\n",
        "강화학습을 시작하고 나서부터 일부 이기는 경우가 있음을\n",
        "확인할 수 있습니다.\n",
        "\n",
        "또한 승률 10% 정도에 도달하는 시간도 기보를 미리\n",
        "넣은 경우에 2배가량 빠른 것을 확인할 수 있습니다.\n",
        "\n",
        "다만, 약 10000번의 게임을 넘어간 뒤부터는\n",
        "두 방식이 그리 큰 차이를 보이지 않는 것을\n",
        "확인할 수 있으며, 계속 선형적으로 승률이 증가하지 않고\n",
        "15% 선에서부터 정체가 생김을 확인할 수 있습니다.\n"
      ],
      "metadata": {
        "id": "TjJV7yXFxMFj"
      }
    },
    {
      "cell_type": "markdown",
      "source": [
        "학습 시간은 처음에 기보를 생성해서 입력하는 과정은\n",
        "$111.3 \\text{ sec} / 1500 \\text{ games}\n",
        "\\simeq 0.074 \\text{ sec/games}$ 정도의 시간이 걸리며,\n",
        "이후에는\n",
        "$3338.1 \\text{ sec} / 1500 \\text{ games}\n",
        "\\simeq 0.247 \\text{ sec/games}$ 정도의 시간이\n",
        "걸립니다.\n",
        "즉, 직접 게임을 하는 것보다 기보를 넣는 편이 기보 하나당\n",
        "처리하는 시간이 1/3정도로 훨씬 짧음을 확인할 수 있습니다."
      ],
      "metadata": {
        "id": "kbJsMFNG3uMR"
      }
    },
    {
      "cell_type": "code",
      "source": [
        "a = [m5aa, m5ad, m5pt, m5df]\n",
        "for i in range(len(a)):\n",
        "    test_agents(40, agent(policy_model(policy)), a[i].agent)"
      ],
      "metadata": {
        "colab": {
          "base_uri": "https://localhost:8080/"
        },
        "id": "N8neGMy-Z5mH",
        "outputId": "fbc3f31f-f913-49da-ae01-9b459677c29f"
      },
      "execution_count": 31,
      "outputs": [
        {
          "output_type": "stream",
          "name": "stdout",
          "text": [
            "-- Test Result --\n",
            "* Agent1 = stochastic(model(7fb8dd24cd50)) \n",
            "* Agent2 = agent-analysis-based\n",
            "Total :    40\n",
            "A1 Win:     2 (0.050) (avg.mov   27.0)\n",
            "A2 Win:    38 (0.950) (avg.mov   43.0)\n",
            "-- Test Result --\n",
            "* Agent1 = stochastic(model(7fb8dd24cd50)) \n",
            "* Agent2 = agent-analysis-defensive\n",
            "Total :    40\n",
            "A1 Win:     7 (0.175) (avg.mov   34.7)\n",
            "A2 Win:    33 (0.825) (avg.mov   37.1)\n",
            "-- Test Result --\n",
            "* Agent1 = stochastic(model(7fb8dd24cd50)) \n",
            "* Agent2 = agent-pt\n",
            "Total :    40\n",
            "A1 Win:    17 (0.425) (avg.mov   30.5)\n",
            "A2 Win:    23 (0.575) (avg.mov   36.5)\n",
            "-- Test Result --\n",
            "* Agent1 = stochastic(model(7fb8dd24cd50)) \n",
            "* Agent2 = agent-df\n",
            "Total :    40\n",
            "A1 Win:    12 (0.300) (avg.mov   44.8)\n",
            "A2 Win:    28 (0.700) (avg.mov   55.5)\n"
          ]
        }
      ]
    },
    {
      "cell_type": "code",
      "source": [
        "m = Mock5(H, W)\n",
        "m.play(agent(policy_model(policy)), m5df.agent,\n",
        "  print_intermediate_state=False)\n",
        "m.plot()\n",
        "plt.show()\n",
        "plt.close()"
      ],
      "metadata": {
        "colab": {
          "base_uri": "https://localhost:8080/",
          "height": 1000
        },
        "id": "vk3gisyhbSPa",
        "outputId": "d4919e7f-99b4-4f74-f061-37e1d1fe161b"
      },
      "execution_count": 35,
      "outputs": [
        {
          "output_type": "stream",
          "name": "stdout",
          "text": [
            "=====================================\n",
            " [ Turn  39 ; 2P's turn (tone = X) ]\n",
            "  | 0 1 2 3 4 5 6 7 8 9 A B C D E\n",
            "--+------------------------------\n",
            "0 | . . . . . . . . . . . . . . .\n",
            "1 | . . . . . . . . . . . . . . .\n",
            "2 | . . . . . . . . . . . . . . .\n",
            "3 | . . . . . . . X . . . X . . .\n",
            "4 | . . . . X . . . . O X O X X .\n",
            "5 | . . . . . . . . . O X O O . .\n",
            "6 | . . . . . . O X X X O O . . .\n",
            "7 | . . . . . . . O X O O O X . .\n",
            "8 | . . . . . . X O O O X O X . .\n",
            "9 | . . . . . . O X X X O . . . .\n",
            "A | . . . . . X . . O . . . . . .\n",
            "B | . . . . . . . O . . . . . . .\n",
            "C | . . . . . . . . . . . . . . .\n",
            "D | . . . . . . . . . . . . . . .\n",
            "E | . . . . . . . . . . . . . . .\n",
            "1p (stochastic(model(7fb8dd24cd50))) win!\n"
          ]
        },
        {
          "output_type": "display_data",
          "data": {
            "text/plain": [
              "<Figure size 1080x1080 with 1 Axes>"
            ],
            "image/png": "[encoded data removed]"
          },
          "metadata": {
            "needs_background": "light"
          }
        }
      ]
    },
    {
      "cell_type": "code",
      "source": [
        "test_agents(100, agent(policy_model(policy)), m5df.agent)"
      ],
      "metadata": {
        "colab": {
          "base_uri": "https://localhost:8080/"
        },
        "id": "e-X3SrGDvgJ0",
        "outputId": "26eaecd4-e2a2-481e-825d-849be5195655"
      },
      "execution_count": 36,
      "outputs": [
        {
          "output_type": "stream",
          "name": "stdout",
          "text": [
            "-- Test Result --\n",
            "* Agent1 = stochastic(model(7fb8dd24cd50)) \n",
            "* Agent2 = agent-df\n",
            "Total :   100\n",
            "A1 Win:    40 (0.400) (avg.mov   31.6)\n",
            "A2 Win:    60 (0.600) (avg.mov   64.2)\n"
          ]
        }
      ]
    },
    {
      "cell_type": "markdown",
      "source": [
        "그 외의 agent와 대결해봤을 때,\n",
        "이전과 마찬가지로 `aa`, `ad`에는 한참 못 미치지만,\n",
        "`pt`, `df`와는 어느 정도 대등하게 게임하는 것을\n",
        "확인할 수 있고, 이는 이전 챕터에서 15000게임을 학습했을\n",
        "때와 유사한 결과입니다."
      ],
      "metadata": {
        "id": "cSqEPMX56aIw"
      }
    },
    {
      "cell_type": "markdown",
      "source": [
        "## 고찰"
      ],
      "metadata": {
        "id": "anUuEcuICdwj"
      }
    },
    {
      "cell_type": "markdown",
      "source": [
        "- Batch size는 학습에 크게 영향을 미치는\n",
        "hyperparameter로, 크게 잡으면 조금 느릴 수는 있어도\n",
        "안정적인 방향으로 수렴해가며, 반대로 batch size가 작아지게\n",
        "되면 parameter의 변화는 커지지만 방향이 튀는 경우가 많이\n",
        "생기게 됩니다.\n",
        "위에서는 많은 기보를 짧은 시간에 뽑아내는 것이 가능하다보니\n",
        "일부러 batch size를 크게 주고 학습이 어떻게 되나\n",
        "확인을 해보기도 했는데, 오히려 아무것도 학습되지 않는\n",
        "상황이 생겼던 것 같습니다.\n",
        "다른 강화학습의 경우는 몰라도, 오목처럼 state와 action이\n",
        "많은 경우에는 안정적으로 수렴시키기보다는\n",
        "나름 괜찮은 방향으로 빠르게 흔들어서 local optimum들을\n",
        "빠르게 빠져나오는 편이 더 나은 것 같습니다.\n",
        "- 이번에 학습 속도가 조금 빨라졌다 싶었는데도 승률 20%에서\n",
        "머무는 것을 보면 neural network의 complexity가\n",
        "부족하지 않았나 싶습니다.\n",
        "- 학습 과정에서 승률 변화를 보면 일정한 경향은 별로 없고\n",
        "왔다갔다 하는 것을 볼 수 있습니다.\n",
        "이렇게 되는 가장 큰 이유는 학습 과정이 가장 최근에 둔\n",
        "게임에서 좋다고 판단한 수만 강화하는 식으로 진행되어서\n",
        "그러지 않은가 싶습니다.\n",
        "결국에는 이 방법 외에는 global optimum에 가까워질\n",
        "방법이 없기에 이 방식은 유지하겠지만,\n",
        "replay memory를 도입하든지 해서 과거의 기보를\n",
        "다시 끄집어내서 학습하는 것이 필요할지도 모르겠습니다."
      ],
      "metadata": {
        "id": "LBsRe2onDfo2"
      }
    }
  ]
}