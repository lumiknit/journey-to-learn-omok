{
  "nbformat": 4,
  "nbformat_minor": 0,
  "metadata": {
    "colab": {
      "name": "14_reinforce_and_tree_search_on_connect_4.ipynb",
      "provenance": [],
      "collapsed_sections": []
    },
    "kernelspec": {
      "name": "python3",
      "display_name": "Python 3"
    },
    "language_info": {
      "name": "python"
    }
  },
  "cells": [
    {
      "cell_type": "markdown",
      "source": [
        "# 14. REINFORCE and Tree Search on Connect 4\n"
      ],
      "metadata": {
        "id": "EUsgzpHxQbS1"
      }
    },
    {
      "cell_type": "markdown",
      "source": [
        "## 지금까지 해온 것들을 모두 모으자!\n",
        "\n",
        "여기서는 policy gradient (REINFORCE),\n",
        "tree search with policy를 혼용해서\n",
        "`agent_greedy`를 뛰어넘는\n",
        "Connect 4 policy를 강화학습 시켜봅니다."
      ],
      "metadata": {
        "id": "EoHuV_ASQhv6"
      }
    },
    {
      "cell_type": "markdown",
      "source": [
        "방식은 다음과 같습니다.\n",
        "\n",
        "- Episode에 대해서는 Monte Carlo policy gradient를\n",
        "사용하여 policy를 갱신.\n",
        "- Policy는 policy network를 base policy로 하여\n",
        "tree search with policy를 사용."
      ],
      "metadata": {
        "id": "iM_iMsn4Q6Vl"
      }
    },
    {
      "cell_type": "markdown",
      "source": [
        "# WIP"
      ],
      "metadata": {
        "id": "6GkrG70sRvFH"
      }
    }
  ]
}