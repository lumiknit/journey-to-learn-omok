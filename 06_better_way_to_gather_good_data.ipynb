{
  "nbformat": 4,
  "nbformat_minor": 0,
  "metadata": {
    "colab": {
      "name": "06_better_way_to_gather_good_data.ipynb",
      "provenance": [],
      "collapsed_sections": []
    },
    "kernelspec": {
      "name": "python3",
      "display_name": "Python 3"
    },
    "language_info": {
      "name": "python"
    }
  },
  "cells": [
    {
      "cell_type": "markdown",
      "source": [
        "# 06. Better Way to Gather Good Data\n",
        "\n",
        "Based on `mock5.py/gen/gen2.cpp` mainly.\n",
        "\n",
        "This part is to solve TODO1 in \\#05"
      ],
      "metadata": {
        "id": "_JwX7CDTv3gE"
      }
    },
    {
      "cell_type": "markdown",
      "source": [
        "## 학습에 사용될 기보를 개선하기\n",
        "\n",
        "이전에 학습을 하면서 기보를 다양하게 생성할 수 있지 않을까\n",
        "생각했고, 그러면 성능이 더 개선되지 않을까 추측했습니다.\n",
        "\n",
        "여기서는 실제로 몇가지 방식으로 데이터를 많이 뽑아내봅니다.\n",
        "\n",
        "# WIP"
      ],
      "metadata": {
        "id": "eyGdLRJqwmSh"
      }
    }
  ]
}