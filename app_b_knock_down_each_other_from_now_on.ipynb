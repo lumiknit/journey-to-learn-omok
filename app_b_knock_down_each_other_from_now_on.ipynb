{
  "nbformat": 4,
  "nbformat_minor": 0,
  "metadata": {
    "colab": {
      "name": "app_b_knock_down_each_other_from_now_on.ipynb",
      "provenance": [],
      "collapsed_sections": []
    },
    "kernelspec": {
      "name": "python3",
      "display_name": "Python 3"
    },
    "language_info": {
      "name": "python"
    },
    "accelerator": "GPU"
  },
  "cells": [
    {
      "cell_type": "markdown",
      "source": [
        "# B. Knock Down Each Other from Now on"
      ],
      "metadata": {
        "id": "GIpiExhpAAf5"
      }
    },
    {
      "cell_type": "markdown",
      "source": [
        "## 알고리즘을 넘은 다음\n",
        "\n",
        "Ch.19에서 10만판이나 되는 게임을 돌려서 상당히 강력한 AI를 얻는 것은 성공했습니다.\n",
        "하지만, 아직 스스로는 3-4 공격 등을 제대로 읽지 못하는 등 결점이\n",
        "많았습니다.\n",
        "더 강하게 키우기 위해서는 더 강한 적이 필요한데, 이제 알고리즘으로\n",
        "학습시키는 것은 역부족이므로 학습된 network를 바탕으로\n",
        "자기들끼리 싸우도록 만듭니다.\n",
        "\n",
        "그래서 여기서는 Ch.19를 바탕으로 지속적으로 학습할 수 있는\n",
        "노트북을 만듭니다.\n",
        "\n",
        "대략적인 학습 방법은 다음과 같습니다.\n",
        "\n",
        "- `HallOfFame`을 만들어서, *강하다*고 판단되는 신경망을\n",
        "$N$개 저장해둡니다.\n",
        "- 새로운 신경망을 학습할 때에는 `HoF`에서 하나를 가져와서 그것을\n",
        "기반으로 학습을 합니다.\n",
        "- 학습을 할 때는 `HoF`의 policy들과 기존에 만들어둔 알고리즘\n",
        "`aa`, `ad`, `df`, `pt`, `mixed`를 순서대로 상대합니다.\n",
        "- 학습은 정해진 횟수 $B$ 번 대전하며 이루어지는데,\n",
        "여기서는 이렇게 학습되어 나온 policy network에 `gen(eration)`\n",
        "을 식별번호처럼 붙이도록 합니다. (Ch.19에서 학습된 것이 `gen=0`, 그 다음 network부터 1씩 늘어납니다.)\n",
        "- 일단 학습이 완료되었다면 평가를 합니다.\n",
        "- 우선 5개의 알고리즘과 각각 $A$번 대전해서 승률을 구할 수\n",
        "있는데, 이 승률이 `HoF`의 network의 알고리즘과의 승률 중\n",
        "가장 낮은 것에도 미치지 못하면 폐기합니다.\n",
        "- 이후 `HoF`의 network와 $T$번 대전하여 승률이 $w$ 이하라면\n",
        "폐기합니다.\n",
        "- 그 외의 경우에는 `HoF` 중 현재 network와 가장 승률이\n",
        "낮았던 network를 폐기하고 그 자리를 차지하도록 합니다."
      ],
      "metadata": {
        "id": "OyW6yJ_CI55S"
      }
    },
    {
      "cell_type": "markdown",
      "source": [
        "우선은 아래에서는 기존의 코드를 정리하고,\n",
        "위 학습 방법을 정리합니다."
      ],
      "metadata": {
        "id": "tBNjDuuVeYgI"
      }
    },
    {
      "cell_type": "markdown",
      "source": [
        "### Environment"
      ],
      "metadata": {
        "id": "kupt1drfAy13"
      }
    },
    {
      "cell_type": "code",
      "source": [
        "!rm -rf *\n",
        "!git clone https://github.com/lumiknit/mock5.py\n",
        "!mv mock5.py/mock5 .\n",
        "!mv mock5.py/gen2_record/gen.cpp .\n",
        "!mv mock5.py/gen2_record/read_record.py .\n",
        "!g++ -O2 -fopenmp -o gen gen.cpp"
      ],
      "metadata": {
        "id": "Qk8EfWVrAYND",
        "colab": {
          "base_uri": "https://localhost:8080/"
        },
        "outputId": "89440d78-164d-40da-b70c-910282cc8488"
      },
      "execution_count": 1,
      "outputs": [
        {
          "output_type": "stream",
          "name": "stdout",
          "text": [
            "rm: cannot remove 'drive/.shortcut-targets-by-id': Operation canceled\n",
            "rm: cannot remove 'drive/.file-revisions-by-id': Operation canceled\n",
            "rm: cannot remove 'drive/MyDrive': Operation canceled\n",
            "rm: cannot remove 'drive/.Trash-0': Directory not empty\n",
            "Cloning into 'mock5.py'...\n",
            "remote: Enumerating objects: 152, done.\u001b[K\n",
            "remote: Counting objects: 100% (152/152), done.\u001b[K\n",
            "remote: Compressing objects: 100% (101/101), done.\u001b[K\n",
            "remote: Total 152 (delta 74), reused 121 (delta 47), pack-reused 0\u001b[K\n",
            "Receiving objects: 100% (152/152), 40.18 KiB | 13.39 MiB/s, done.\n",
            "Resolving deltas: 100% (74/74), done.\n"
          ]
        }
      ]
    },
    {
      "cell_type": "code",
      "source": [
        "from mock5 import Mock5\n",
        "from mock5.analysis import Analysis as M5Analysis\n",
        "import mock5.agent_random as m5rand\n",
        "import mock5.agent_analysis_based as m5aa\n",
        "import mock5.agent_ad as m5ad\n",
        "import mock5.agent_pt as m5pt\n",
        "import mock5.agent_df as m5df\n",
        "\n",
        "import matplotlib.pyplot as plt\n",
        "\n",
        "import numpy as np\n",
        "\n",
        "import torch\n",
        "import torch.nn as nn\n",
        "import torch.optim as optim\n",
        "\n",
        "import os\n",
        "import time\n",
        "\n",
        "device = 'cuda' if torch.cuda.is_available() else 'cpu'\n",
        "print(\"Device: {}\".format(device))\n",
        "\n",
        "torch.backends.cudnn.benchmark = True\n",
        "torch.autograd.set_detect_anomaly(False)\n",
        "\n",
        "print(\"cudnn: {} (det {}; bench {})\".format(\n",
        "    torch.backends.cudnn.enabled,\n",
        "    torch.backends.cudnn.deterministic,\n",
        "    torch.backends.cudnn.benchmark))\n",
        "print(\"OpenMP: {}\".format(torch.backends.openmp.is_available()))"
      ],
      "metadata": {
        "id": "FpluuOUEAYP2",
        "colab": {
          "base_uri": "https://localhost:8080/"
        },
        "outputId": "f96e61f7-6d80-40c3-df93-71a7f2543f3e"
      },
      "execution_count": 2,
      "outputs": [
        {
          "output_type": "stream",
          "name": "stdout",
          "text": [
            "Device: cuda\n",
            "cudnn: True (det False; bench True)\n",
            "OpenMP: True\n"
          ]
        }
      ]
    },
    {
      "cell_type": "markdown",
      "source": [
        "### Board Size"
      ],
      "metadata": {
        "id": "Amy_A9TSKLcL"
      }
    },
    {
      "cell_type": "code",
      "source": [
        "H, W = 15, 15"
      ],
      "metadata": {
        "id": "pzinkJGxAYSL"
      },
      "execution_count": 3,
      "outputs": []
    },
    {
      "cell_type": "markdown",
      "source": [
        "### Agent & Policy Transformer"
      ],
      "metadata": {
        "id": "9bCoGZBRA1SD"
      }
    },
    {
      "cell_type": "code",
      "source": [
        "def fn_name(fn):\n",
        "  if hasattr(fn, 'name'): return fn.name\n",
        "  else: return repr(fn)\n",
        "  \n",
        "def agent(pi, epsilon=0):\n",
        "  # pi must return array of non-negative values\n",
        "  def c(game):\n",
        "    w, h = game.width, game.height\n",
        "    m, p = np.ones(h * w), np.array(pi(game))\n",
        "    for i in range(h * w):\n",
        "      if game.board[i] != 0: m[i], p[i] = 0, 0\n",
        "    s = p.sum()\n",
        "    if np.random.uniform() < epsilon or s == 0:\n",
        "      s = m.sum()\n",
        "      if s == 0: return None, None # Cannot do anything\n",
        "      else: idx = np.random.choice(h * w, p=(m / s))\n",
        "    else: idx = np.random.choice(h * w, p=(p / s))\n",
        "    return idx // w, idx % w\n",
        "  c.name = 'stochastic({})'.format(fn_name(pi))\n",
        "  return c\n",
        "\n",
        "def agent_mixed(game):\n",
        "  a = np.random.uniform()\n",
        "  if a < 0.4: return m5aa.agent(game)\n",
        "  elif a < 0.8: return m5ad.agent(game)\n",
        "  elif a < 0.9: return m5pt.agent(game)\n",
        "  else: return m5df.agent(game)\n",
        "agent_mixed.name = 'agent-mixed-analysis-based'"
      ],
      "metadata": {
        "id": "rY1OR7XSBDZ6"
      },
      "execution_count": 4,
      "outputs": []
    },
    {
      "cell_type": "code",
      "source": [
        "def test_agents(num_game, agent1, agent2, p_msg=True):\n",
        "  w1, w2 = 0, 0\n",
        "  c1, c2 = 0, 0\n",
        "  for i in range(num_game):\n",
        "    g = Mock5(H, W)\n",
        "    if i % 2 == 0:\n",
        "      result = g.play(agent1, agent2, random_first=False,\n",
        "        print_intermediate_state=False, print_messages=False)\n",
        "    else:\n",
        "      result = g.play(agent2, agent1, random_first=False,\n",
        "        print_intermediate_state=False, print_messages=False)\n",
        "      if result != 0: result = 3 - result\n",
        "    if result == 1:\n",
        "      w1 += 1\n",
        "      c1 += len(g.history)\n",
        "    elif result == 2:\n",
        "      w2 += 1\n",
        "      c2 += len(g.history)\n",
        "  if p_msg:\n",
        "    print(\"-- Test Result --\")\n",
        "    print(\"* Agent1 = {} \\n* Agent2 = {}\".format(\n",
        "        fn_name(agent1), fn_name(agent2)))\n",
        "    print(\"Total : {:5d}\".format(num_game))\n",
        "    print(\"A1 Win: {:5d} ({:5.3f}) (avg.mov {:6.1f})\".format(w1, w1 / num_game, c1 / max(1, w1)))\n",
        "    print(\"A2 Win: {:5d} ({:5.3f}) (avg.mov {:6.1f})\".format(w2, w2 / num_game, c2 / max(1, w2)))\n",
        "  return (w1 + (num_game - w1 - w2) * 0.5) / num_game"
      ],
      "metadata": {
        "id": "akmuCGFUKJ2N"
      },
      "execution_count": 5,
      "outputs": []
    },
    {
      "cell_type": "code",
      "source": [
        "class Stat:\n",
        "  def __init__(self, n=0, w=0, l=0, d=0): self.n, self.w, self.l, self.d = n, w, l, d\n",
        "  def dup(self):\n",
        "    return Stat(self.n, self.w, self.l, self.d)\n",
        "  def __sub__(self, other):\n",
        "    return Stat(self.n - other.n, self.w - other.w, self.l - other.l, self.d - other.d)\n",
        "  def __str__(self):\n",
        "    return \"{:8.4f}% ({}w + {}d + {}l = {})\".format(\n",
        "      100 * self.win_rate(), self.w, self.d, self.l, self.n)\n",
        "  def win(self):\n",
        "    self.n += 1\n",
        "    self.w += 1\n",
        "  def lose(self):\n",
        "    self.n += 1\n",
        "    self.l += 1\n",
        "  def draw(self):\n",
        "    self.n += 1\n",
        "    self.d += 1\n",
        "  def update_by_result(self, result):\n",
        "    self.n += 1\n",
        "    if result == 1: self.w += 1\n",
        "    elif result > 1: self.l += 1\n",
        "    else: self.d += 1\n",
        "  def win_rate(self):\n",
        "    if self.n >= 1: return (self.w + 0.5 * self.d) / self.n\n",
        "    else: return np.nan"
      ],
      "metadata": {
        "id": "ecNSDhMdJ1WH"
      },
      "execution_count": 6,
      "outputs": []
    },
    {
      "cell_type": "markdown",
      "source": [
        "### Neural Network\n"
      ],
      "metadata": {
        "id": "xoa7cnYnI5cJ"
      }
    },
    {
      "cell_type": "code",
      "source": [
        "class Flatten(nn.Module):\n",
        "  def forward(self, x):\n",
        "    if len(x.shape) == 3: return x.view(-1)\n",
        "    else: return x.flatten(1, -1)\n",
        "\n",
        "class Block1(nn.Module):\n",
        "  def __init__(self, ch, int_ch, ker):\n",
        "    super().__init__()\n",
        "    self.seq = nn.Sequential(\n",
        "      nn.Conv2d(ch, int_ch, ker, padding='same'),\n",
        "      nn.GELU(),\n",
        "      nn.Conv2d(int_ch, ch, ker, padding='same'))\n",
        "  def forward(self, x):\n",
        "    y_0 = self.seq(x)\n",
        "    return nn.functional.gelu(x + y_0)\n",
        "\n",
        "class Policy(nn.Module):\n",
        "  def __init__(self):\n",
        "    super().__init__()\n",
        "    self.seq = nn.Sequential(\n",
        "      nn.Conv2d(2, 128, 3, padding='same'),\n",
        "      nn.GELU(),\n",
        "      Block1(128, 128, 3),\n",
        "      Block1(128, 128, 3),\n",
        "      Block1(128, 128, 3),\n",
        "      nn.Conv2d(128, 1, 5, padding='same'),\n",
        "      nn.GELU(),\n",
        "      # Flatten\n",
        "      Flatten(),\n",
        "      # Softmax\n",
        "      nn.LogSoftmax(dim=-1))\n",
        "\n",
        "  def forward(self, x):\n",
        "    return self.seq(x)\n",
        "\n",
        "def game_to_tensor(game):\n",
        "  t = torch.zeros(2, game.height * game.width, dtype=torch.float)\n",
        "  for i in range(game.height * game.width):\n",
        "    b = game.board[i]\n",
        "    if b == game.player: t[0][i] = 1.0\n",
        "    elif b != 0: t[1][i] = 1.0\n",
        "  return t.view(2, game.height, game.width)\n",
        "\n",
        "def policy_model(net):\n",
        "  def c(game):\n",
        "    X = game_to_tensor(game).to(device)\n",
        "    with torch.no_grad():\n",
        "      p = torch.exp(net(X))\n",
        "    arr = p.squeeze().to('cpu').numpy()\n",
        "    return arr\n",
        "  c.name = 'model({:x})'.format(id(net))\n",
        "  return c\n",
        "\n",
        "def agent_policy(net):\n",
        "  return agent(policy_model(net))"
      ],
      "metadata": {
        "id": "7W-cUdwvJAfs"
      },
      "execution_count": 7,
      "outputs": []
    },
    {
      "cell_type": "code",
      "source": [
        "def append_game_replay(Xs, As, Vs, gamma, game, result, winner_only=True):\n",
        "  reward = 1 if result != 0 else 0.3\n",
        "  # Append to Batch\n",
        "  for f in range(2):\n",
        "    for r in range(4):\n",
        "      g = game.replay(angle=r, flip=f)\n",
        "      while len(g.history) > 0:\n",
        "        a = g.history[-1]\n",
        "        g.undo()\n",
        "        if not winner_only or g.player == 3 - game.player:\n",
        "          Xs.append(game_to_tensor(g))\n",
        "          As.append(a)\n",
        "          Vs.append(reward)\n",
        "        reward *= gamma\n",
        "\n",
        "def gen_episode(agent1, agent2, Xs, As, Vs, gamma, stat):\n",
        "  # Run Game\n",
        "  game = Mock5(H, W)\n",
        "  result = game.play(agent1, agent2,\n",
        "    print_intermediate_state=False, print_messages=False)\n",
        "  # Make reward\n",
        "  stat.update_by_result(result)\n",
        "  append_game_replay(Xs, As, Vs, gamma, game, result)"
      ],
      "metadata": {
        "id": "kwcqOz7ES-tS"
      },
      "execution_count": 8,
      "outputs": []
    },
    {
      "cell_type": "code",
      "source": [
        "# REINFORCE\n",
        "def learn(\n",
        "    policy_nn,\n",
        "    a2_gen,\n",
        "    opt,\n",
        "    n_episode,\n",
        "    n_epoch,\n",
        "    gamma,\n",
        "    batch_size,\n",
        "    interval_stat\n",
        "):\n",
        "  stat = Stat()\n",
        "  last_stat = stat.dup()\n",
        "  last_stat_epi = -1\n",
        "  loss_inc = 0\n",
        "  Xs, As, Vs = [], [], []\n",
        "  ap = agent_policy(policy_nn)\n",
        "  for epi in range(n_episode):\n",
        "    # Generate episode\n",
        "    a2 = a2_gen(epi)\n",
        "    inc_epi = gen_episode(ap, a2, Xs, As, Vs, gamma, stat)\n",
        "    if type(inc_epi) is int: epi += inc_epi\n",
        "    # If batch is full enough, perform gradient ascent\n",
        "    if len(Xs) >= batch_size:\n",
        "      # Tensor-fy\n",
        "      X = torch.stack(Xs).to(device)\n",
        "      A = torch.tensor(As).unsqueeze(dim=1).to(device)\n",
        "      V = torch.tensor(Vs, dtype=torch.float).to(device)\n",
        "      Xs, As, Vs = [], [], []\n",
        "      # Learn\n",
        "      loss_list = []\n",
        "      for e in range(n_epoch):\n",
        "        opt.zero_grad(set_to_none=True)\n",
        "        pi_s = policy_nn(X)\n",
        "        pi_sa = pi_s.gather(1, A).squeeze(dim=1)\n",
        "        loss = -(V * pi_sa).mean()\n",
        "        loss.backward()\n",
        "        opt.step()\n",
        "        loss_list.append(loss.mean().item())\n",
        "      loss_inc += loss_list[0] - loss_list[-1]\n",
        "      # Print status and evaluate\n",
        "      if epi - last_stat_epi >= interval_stat:\n",
        "        print(\"----------\")\n",
        "        print(\"Ep #{:<6d} Loss Change Accum {:13.10f}\".format(epi + 1, loss_inc))\n",
        "        print(\"  Win Rate {}\".format(str(stat)))\n",
        "        print(\"   WR Diff {}\".format(str(stat - last_stat)))\n",
        "        last_stat, last_stat_epi = stat.dup(), epi\n",
        "        loss_inc = 0"
      ],
      "metadata": {
        "id": "uDl_3EdbJ65E"
      },
      "execution_count": 9,
      "outputs": []
    },
    {
      "cell_type": "markdown",
      "source": [
        "## Mound Drive\n",
        "\n",
        "백업용 드라이브를 마운트합니다."
      ],
      "metadata": {
        "id": "uP1IC9J4057C"
      }
    },
    {
      "cell_type": "code",
      "source": [
        "from google.colab import drive\n",
        "#drive.mount('/content/drive')"
      ],
      "metadata": {
        "id": "GkF0156Z0v04"
      },
      "execution_count": null,
      "outputs": []
    },
    {
      "cell_type": "code",
      "source": [
        "!cp /content/drive/MyDrive/app_b_last.weight ."
      ],
      "metadata": {
        "id": "OgJjuEBIB7UD"
      },
      "execution_count": 14,
      "outputs": []
    },
    {
      "cell_type": "markdown",
      "source": [
        "## v.s. Algorithm Score\n",
        "\n",
        "아래와 같이 각 인공지능과 맞붙여서 얻은 승률을 합해 점수로 사용합니다."
      ],
      "metadata": {
        "id": "kS1IP0ysn3WM"
      }
    },
    {
      "cell_type": "code",
      "source": [
        "NUM_AL_SCORE_T = 150\n",
        "\n",
        "def calc_al_score(net):\n",
        "  ops = [m5aa.agent, m5ad.agent, m5df.agent, m5pt.agent, agent_mixed]\n",
        "  score = 0\n",
        "  for op in ops:\n",
        "    score += test_agents(NUM_AL_SCORE_T, agent_policy(net), op, p_msg=False)\n",
        "  return score"
      ],
      "metadata": {
        "id": "KpUuIcv6m-k3"
      },
      "execution_count": 11,
      "outputs": []
    },
    {
      "cell_type": "markdown",
      "source": [
        "## Hall of Fame\n",
        "\n",
        "먼저 HoF 생성기를 만듭니다.\n",
        "`torch.save`/`load`로 불러오기 쉽도록 dictionary로 구성합니다.\n",
        "\n",
        "이 dictionary는 다음과 같은 구조를 가집니다.\n",
        "```\n",
        "- slots(list)      # HoF Networks\n",
        "  - net            # neural network\n",
        "  - gen            # the generation of net\n",
        "  - al_score       # vs algorithms win rate\n",
        "- gen              # last created generation\n",
        "```\n",
        "\n",
        "처음 학습을 시킬 때만 아래 `first_create_hof`로\n",
        "Ch.19의 weight를 바탕으로 HoF를 만들고,\n",
        "이후에는 `load_last_hof`로 불러오면 됩니다."
      ],
      "metadata": {
        "id": "qcXL6NI_ibG5"
      }
    },
    {
      "cell_type": "code",
      "source": [
        "NUM_SLOTS_HOF = 5\n",
        "WEIGHT_FILE = 'app_b_last.weight'\n",
        "WEIGHT_FILE_IDX = lambda idx: \"app_b_{:08x}.weight\".format(idx)\n",
        "\n",
        "def new_hof(default_weight_file_name='19_weight_10hr'):\n",
        "  slots = [{\n",
        "    'gen': 0,\n",
        "    'al_score': 0,\n",
        "  } for i in range(NUM_SLOTS_HOF)]\n",
        "  try:\n",
        "    d = torch.load(default_weight_file_name)\n",
        "    print(\"** Weight {} Loaded\".format(default_weight_file_name))\n",
        "    for i in range(NUM_SLOTS_HOF):\n",
        "      slots[i]['dict'] = d['network state dict']\n",
        "  except:\n",
        "    print(\"** Failed to load {}\".format(default_weight_file_name))\n",
        "  return {\n",
        "      'slots': slots,\n",
        "      'gen': 1,\n",
        "  }\n",
        "\n",
        "def first_create_hof():\n",
        "  global hof, pns\n",
        "  hof = new_hof()\n",
        "  pns = [None] * NUM_SLOTS_HOF\n",
        "  for i in range(NUM_SLOTS_HOF):\n",
        "    pns[i] = Policy().to(device)\n",
        "    pns[i].load_state_dict(hof['slots'][i]['dict'])\n",
        "    hof['slots'][i]['al_score'] = calc_al_score(pns[i])\n",
        "    print(\"  ([{}] al score {})\".format(i, hof['slots'][i]['al_score']))\n",
        "  save_hof()\n",
        "\n",
        "def load_hof_file(filename):\n",
        "  global hof, pns\n",
        "  hof = torch.load(WEIGHT_FILE)\n",
        "  pns = [None] * NUM_SLOTS_HOF\n",
        "  for i in range(NUM_SLOTS_HOF):\n",
        "    pns[i] = Policy().to(device)\n",
        "    pns[i].load_state_dict(hof['slots'][i]['dict'])\n",
        "    hof['slots'][i]['al_score'] = calc_al_score(pns[i])\n",
        "    print(\"  ([{}] al score {})\".format(i, hof['slots'][i]['al_score']))\n",
        "\n",
        "def load_last_hof(): load_hof_file(WEIGHT_FILE)\n",
        "def load_hof(index): load_hof_file(WEIGHT_FILE_IDX(index))\n",
        "\n",
        "def save_hof():\n",
        "  global hof\n",
        "  torch.save(hof, WEIGHT_FILE)\n",
        "  torch.save(hof, \"/content/drive/MyDrive/\" + WEIGHT_FILE)\n",
        "  torch.save(hof, WEIGHT_FILE_IDX(hof['gen']))"
      ],
      "metadata": {
        "id": "WaGCem4jiu-4"
      },
      "execution_count": 12,
      "outputs": []
    },
    {
      "cell_type": "markdown",
      "source": [
        "아래 함수를 사용해서 임의의 network를 `HoF`에서 가져올 수 있습니다."
      ],
      "metadata": {
        "id": "KOdABQTBmTaW"
      }
    },
    {
      "cell_type": "code",
      "source": [
        "def init_curr():\n",
        "  global curr, curr_pn\n",
        "  curr_pn = Policy().to(device)\n",
        "  curr = {\n",
        "    'dict': None,\n",
        "    'gen': hof['gen'],\n",
        "    'al_score': 0 }\n",
        "  idx = np.random.randint(NUM_SLOTS_HOF)\n",
        "  curr_pn.load_state_dict(hof['slots'][idx]['dict'])"
      ],
      "metadata": {
        "id": "lfAdMLcEmljf"
      },
      "execution_count": 15,
      "outputs": []
    },
    {
      "cell_type": "markdown",
      "source": [
        "아래는 학습에 사용될 agent 생성기입니다."
      ],
      "metadata": {
        "id": "W8_j20J9ohpP"
      }
    },
    {
      "cell_type": "code",
      "source": [
        "def agent_gen(epi):\n",
        "  x = epi % (NUM_SLOTS_HOF + 5)\n",
        "  if x < NUM_SLOTS_HOF: return agent_policy(pns[x])\n",
        "  else: return [m5aa.agent, m5ad.agent, m5df.agent, m5pt.agent, agent_mixed][x - NUM_SLOTS_HOF]"
      ],
      "metadata": {
        "id": "Pm7w6fzAokO1"
      },
      "execution_count": 16,
      "outputs": []
    },
    {
      "cell_type": "markdown",
      "source": [
        "다음과 같이 HoF를 교체합니다."
      ],
      "metadata": {
        "id": "L7XkB_2co7tm"
      }
    },
    {
      "cell_type": "code",
      "source": [
        "NUM_HOF_T = 150\n",
        "LIM_HOF_WR = 0.51\n",
        "\n",
        "def check_hof():\n",
        "  # Calculate al_score\n",
        "  curr['al_score'] = calc_al_score(curr_pn)\n",
        "  ms = 10\n",
        "  for i in range(NUM_SLOTS_HOF):\n",
        "    if ms > hof['slots'][i]['al_score']: ms = hof['slots'][i]['al_score']\n",
        "  print(\"** AL Score: {:.5f} (min = {:.5f})\".format(curr['al_score'], ms))\n",
        "  if ms > curr['al_score']: return False, None\n",
        "  # Check winrate\n",
        "  scores = [0] * NUM_SLOTS_HOF\n",
        "  for i in range(NUM_SLOTS_HOF):\n",
        "    scores[i] = test_agents(NUM_HOF_T,\n",
        "                            agent_policy(curr_pn),\n",
        "                            agent_policy(pns[i]),\n",
        "                            p_msg=False)\n",
        "  print(\"** HoF Score: {}\".format(str(scores)))\n",
        "  score_avg = sum(scores) / NUM_SLOTS_HOF\n",
        "  print(\"** HoF Score Avg: {:.5f}\".format(score_avg))\n",
        "  if score_avg < LIM_HOF_WR: return False, None\n",
        "  # Return True with index of slot to be replaced\n",
        "  m = 0\n",
        "  for i in range(1, NUM_SLOTS_HOF):\n",
        "    if scores[i] > scores[m]: m = i\n",
        "  return True, m\n",
        "\n",
        "def register_hof():\n",
        "  print('** Running qualification...')\n",
        "  will_replace, index = check_hof()\n",
        "  if will_replace:\n",
        "    print('** Success to be registered in HoF!')\n",
        "    curr['dict'] = curr_pn.state_dict()\n",
        "    hof['slots'][index] = curr\n",
        "    pns[index] = curr_pn\n",
        "  else:\n",
        "    print('** Fail to be registered in HoF!')\n",
        "  print('** Next gen = {}'.format(hof['gen']))\n",
        "  hof['gen'] += 1\n",
        "  save_hof()\n",
        "  init_curr()"
      ],
      "metadata": {
        "id": "ZJA7M7kTpIWL"
      },
      "execution_count": 17,
      "outputs": []
    },
    {
      "cell_type": "code",
      "source": [
        "def open_arena():\n",
        "  print(\"*** `open_arena` infinitely loop, please INTERRUPT to STOP!!!! ***\")\n",
        "  while 1:\n",
        "    print()\n",
        "    print(\"** Learning...\")\n",
        "    opt = optim.SGD(curr_pn.parameters(),\n",
        "                    lr=9e-3,\n",
        "                    momentum=0.75,\n",
        "                    weight_decay=1e-6)\n",
        "\n",
        "    N_EPI = 3000\n",
        "    learn(\n",
        "        policy_nn = curr_pn,\n",
        "        a2_gen = agent_gen,\n",
        "        opt = opt,\n",
        "        n_episode = N_EPI,\n",
        "        n_epoch = 2,\n",
        "        gamma = 0.995,\n",
        "        batch_size = 50,\n",
        "        interval_stat = N_EPI)\n",
        "    \n",
        "    print(\"** Registering...\")\n",
        "    register_hof()"
      ],
      "metadata": {
        "id": "BN0Y2vM2KnsT"
      },
      "execution_count": 29,
      "outputs": []
    },
    {
      "cell_type": "markdown",
      "source": [
        "## Init HoF and curr"
      ],
      "metadata": {
        "id": "KVcxh8aIrhtL"
      }
    },
    {
      "cell_type": "code",
      "source": [
        "# Uncomment one of the below two option\n",
        "#first_create_hof() # For first running with `19_weight_10hr`\n",
        "load_last_hof() # running with `app_b_last.weight`\n",
        "\n",
        "init_curr()"
      ],
      "metadata": {
        "colab": {
          "base_uri": "https://localhost:8080/"
        },
        "id": "SigU-byZjuJv",
        "outputId": "0a34108f-8962-436d-bfe3-b1437713d75d"
      },
      "execution_count": 19,
      "outputs": [
        {
          "output_type": "stream",
          "name": "stdout",
          "text": [
            "  ([0] al score 4.306666666666667)\n",
            "  ([1] al score 4.346666666666667)\n",
            "  ([2] al score 4.573333333333333)\n",
            "  ([3] al score 4.3566666666666665)\n",
            "  ([4] al score 4.473333333333334)\n"
          ]
        }
      ]
    },
    {
      "cell_type": "markdown",
      "source": [
        "### Learning"
      ],
      "metadata": {
        "id": "PRdVhpVD4Z8N"
      }
    },
    {
      "cell_type": "code",
      "source": [
        "open_arena()"
      ],
      "metadata": {
        "id": "Yd4LMlK_rxmK",
        "colab": {
          "base_uri": "https://localhost:8080/",
          "height": 416
        },
        "outputId": "43e1020a-4ac6-4c0b-e740-29e0c346d9a5"
      },
      "execution_count": 39,
      "outputs": [
        {
          "output_type": "stream",
          "name": "stdout",
          "text": [
            "*** `open_arena` infinitely loop, please INTERRUPT to STOP!!!! ***\n",
            "\n",
            "** Learning...\n"
          ]
        },
        {
          "output_type": "error",
          "ename": "KeyboardInterrupt",
          "evalue": "ignored",
          "traceback": [
            "\u001b[0;31m---------------------------------------------------------------------------\u001b[0m",
            "\u001b[0;31mKeyboardInterrupt\u001b[0m                         Traceback (most recent call last)",
            "\u001b[0;32m<ipython-input-39-cae39f82fa08>\u001b[0m in \u001b[0;36m<module>\u001b[0;34m()\u001b[0m\n\u001b[0;32m----> 1\u001b[0;31m \u001b[0mopen_arena\u001b[0m\u001b[0;34m(\u001b[0m\u001b[0;34m)\u001b[0m\u001b[0;34m\u001b[0m\u001b[0;34m\u001b[0m\u001b[0m\n\u001b[0m",
            "\u001b[0;32m<ipython-input-29-d5dda59fd03b>\u001b[0m in \u001b[0;36mopen_arena\u001b[0;34m()\u001b[0m\n\u001b[1;32m     18\u001b[0m         \u001b[0mgamma\u001b[0m \u001b[0;34m=\u001b[0m \u001b[0;36m0.995\u001b[0m\u001b[0;34m,\u001b[0m\u001b[0;34m\u001b[0m\u001b[0;34m\u001b[0m\u001b[0m\n\u001b[1;32m     19\u001b[0m         \u001b[0mbatch_size\u001b[0m \u001b[0;34m=\u001b[0m \u001b[0;36m50\u001b[0m\u001b[0;34m,\u001b[0m\u001b[0;34m\u001b[0m\u001b[0;34m\u001b[0m\u001b[0m\n\u001b[0;32m---> 20\u001b[0;31m         interval_stat = N_EPI)\n\u001b[0m\u001b[1;32m     21\u001b[0m \u001b[0;34m\u001b[0m\u001b[0m\n\u001b[1;32m     22\u001b[0m     \u001b[0mprint\u001b[0m\u001b[0;34m(\u001b[0m\u001b[0;34m\"** Registering...\"\u001b[0m\u001b[0;34m)\u001b[0m\u001b[0;34m\u001b[0m\u001b[0;34m\u001b[0m\u001b[0m\n",
            "\u001b[0;32m<ipython-input-9-c8f5ad2e01b5>\u001b[0m in \u001b[0;36mlearn\u001b[0;34m(policy_nn, a2_gen, opt, n_episode, n_epoch, gamma, batch_size, interval_stat)\u001b[0m\n\u001b[1;32m     19\u001b[0m     \u001b[0;31m# Generate episode\u001b[0m\u001b[0;34m\u001b[0m\u001b[0;34m\u001b[0m\u001b[0;34m\u001b[0m\u001b[0m\n\u001b[1;32m     20\u001b[0m     \u001b[0ma2\u001b[0m \u001b[0;34m=\u001b[0m \u001b[0ma2_gen\u001b[0m\u001b[0;34m(\u001b[0m\u001b[0mepi\u001b[0m\u001b[0;34m)\u001b[0m\u001b[0;34m\u001b[0m\u001b[0;34m\u001b[0m\u001b[0m\n\u001b[0;32m---> 21\u001b[0;31m     \u001b[0minc_epi\u001b[0m \u001b[0;34m=\u001b[0m \u001b[0mgen_episode\u001b[0m\u001b[0;34m(\u001b[0m\u001b[0map\u001b[0m\u001b[0;34m,\u001b[0m \u001b[0ma2\u001b[0m\u001b[0;34m,\u001b[0m \u001b[0mXs\u001b[0m\u001b[0;34m,\u001b[0m \u001b[0mAs\u001b[0m\u001b[0;34m,\u001b[0m \u001b[0mVs\u001b[0m\u001b[0;34m,\u001b[0m \u001b[0mgamma\u001b[0m\u001b[0;34m,\u001b[0m \u001b[0mstat\u001b[0m\u001b[0;34m)\u001b[0m\u001b[0;34m\u001b[0m\u001b[0;34m\u001b[0m\u001b[0m\n\u001b[0m\u001b[1;32m     22\u001b[0m     \u001b[0;32mif\u001b[0m \u001b[0mtype\u001b[0m\u001b[0;34m(\u001b[0m\u001b[0minc_epi\u001b[0m\u001b[0;34m)\u001b[0m \u001b[0;32mis\u001b[0m \u001b[0mint\u001b[0m\u001b[0;34m:\u001b[0m \u001b[0mepi\u001b[0m \u001b[0;34m+=\u001b[0m \u001b[0minc_epi\u001b[0m\u001b[0;34m\u001b[0m\u001b[0;34m\u001b[0m\u001b[0m\n\u001b[1;32m     23\u001b[0m     \u001b[0;31m# If batch is full enough, perform gradient ascent\u001b[0m\u001b[0;34m\u001b[0m\u001b[0;34m\u001b[0m\u001b[0;34m\u001b[0m\u001b[0m\n",
            "\u001b[0;32m<ipython-input-8-6306acae0e11>\u001b[0m in \u001b[0;36mgen_episode\u001b[0;34m(agent1, agent2, Xs, As, Vs, gamma, stat)\u001b[0m\n\u001b[1;32m     18\u001b[0m   \u001b[0mgame\u001b[0m \u001b[0;34m=\u001b[0m \u001b[0mMock5\u001b[0m\u001b[0;34m(\u001b[0m\u001b[0mH\u001b[0m\u001b[0;34m,\u001b[0m \u001b[0mW\u001b[0m\u001b[0;34m)\u001b[0m\u001b[0;34m\u001b[0m\u001b[0;34m\u001b[0m\u001b[0m\n\u001b[1;32m     19\u001b[0m   result = game.play(agent1, agent2,\n\u001b[0;32m---> 20\u001b[0;31m     print_intermediate_state=False, print_messages=False)\n\u001b[0m\u001b[1;32m     21\u001b[0m   \u001b[0;31m# Make reward\u001b[0m\u001b[0;34m\u001b[0m\u001b[0;34m\u001b[0m\u001b[0;34m\u001b[0m\u001b[0m\n\u001b[1;32m     22\u001b[0m   \u001b[0mstat\u001b[0m\u001b[0;34m.\u001b[0m\u001b[0mupdate_by_result\u001b[0m\u001b[0;34m(\u001b[0m\u001b[0mresult\u001b[0m\u001b[0;34m)\u001b[0m\u001b[0;34m\u001b[0m\u001b[0;34m\u001b[0m\u001b[0m\n",
            "\u001b[0;32m/content/mock5/__init__.py\u001b[0m in \u001b[0;36mplay\u001b[0;34m(self, input1, input2, random_first, print_intermediate_state, print_messages)\u001b[0m\n\u001b[1;32m    667\u001b[0m           \u001b[0mwinner\u001b[0m \u001b[0;34m=\u001b[0m \u001b[0;36m3\u001b[0m \u001b[0;34m-\u001b[0m \u001b[0mself\u001b[0m\u001b[0;34m.\u001b[0m\u001b[0mplayer\u001b[0m\u001b[0;34m\u001b[0m\u001b[0;34m\u001b[0m\u001b[0m\n\u001b[1;32m    668\u001b[0m           \u001b[0;32mbreak\u001b[0m\u001b[0;34m\u001b[0m\u001b[0;34m\u001b[0m\u001b[0m\n\u001b[0;32m--> 669\u001b[0;31m       \u001b[0mwinner\u001b[0m \u001b[0;34m=\u001b[0m \u001b[0mself\u001b[0m\u001b[0;34m.\u001b[0m\u001b[0mcheck_win\u001b[0m\u001b[0;34m(\u001b[0m\u001b[0;34m)\u001b[0m\u001b[0;34m\u001b[0m\u001b[0;34m\u001b[0m\u001b[0m\n\u001b[0m\u001b[1;32m    670\u001b[0m       \u001b[0;32mif\u001b[0m \u001b[0mwinner\u001b[0m \u001b[0;34m!=\u001b[0m \u001b[0;32mNone\u001b[0m\u001b[0;34m:\u001b[0m\u001b[0;34m\u001b[0m\u001b[0;34m\u001b[0m\u001b[0m\n\u001b[1;32m    671\u001b[0m         \u001b[0;32mif\u001b[0m \u001b[0mprint_messages\u001b[0m\u001b[0;34m:\u001b[0m\u001b[0;34m\u001b[0m\u001b[0;34m\u001b[0m\u001b[0m\n",
            "\u001b[0;32m/content/mock5/__init__.py\u001b[0m in \u001b[0;36mcheck_win\u001b[0;34m(self)\u001b[0m\n\u001b[1;32m    568\u001b[0m     \u001b[0;31m# Diagonal\u001b[0m\u001b[0;34m\u001b[0m\u001b[0;34m\u001b[0m\u001b[0;34m\u001b[0m\u001b[0m\n\u001b[1;32m    569\u001b[0m     \u001b[0;32mfor\u001b[0m \u001b[0mx\u001b[0m \u001b[0;32min\u001b[0m \u001b[0mrange\u001b[0m\u001b[0;34m(\u001b[0m\u001b[0mself\u001b[0m\u001b[0;34m.\u001b[0m\u001b[0mheight\u001b[0m \u001b[0;34m+\u001b[0m \u001b[0mself\u001b[0m\u001b[0;34m.\u001b[0m\u001b[0mwidth\u001b[0m \u001b[0;34m-\u001b[0m \u001b[0;36m1\u001b[0m\u001b[0;34m)\u001b[0m\u001b[0;34m:\u001b[0m\u001b[0;34m\u001b[0m\u001b[0;34m\u001b[0m\u001b[0m\n\u001b[0;32m--> 570\u001b[0;31m       \u001b[0mv\u001b[0m \u001b[0;34m=\u001b[0m \u001b[0mself\u001b[0m\u001b[0;34m.\u001b[0m\u001b[0m_scan_with_iter\u001b[0m\u001b[0;34m(\u001b[0m\u001b[0mself\u001b[0m\u001b[0;34m.\u001b[0m\u001b[0miter_right_down\u001b[0m\u001b[0;34m(\u001b[0m\u001b[0mx\u001b[0m\u001b[0;34m)\u001b[0m\u001b[0;34m)\u001b[0m\u001b[0;34m\u001b[0m\u001b[0;34m\u001b[0m\u001b[0m\n\u001b[0m\u001b[1;32m    571\u001b[0m       \u001b[0;32mif\u001b[0m \u001b[0mv\u001b[0m \u001b[0;32mis\u001b[0m \u001b[0;32mnot\u001b[0m \u001b[0;32mNone\u001b[0m\u001b[0;34m:\u001b[0m\u001b[0;34m\u001b[0m\u001b[0;34m\u001b[0m\u001b[0m\n\u001b[1;32m    572\u001b[0m         \u001b[0;32mreturn\u001b[0m \u001b[0mv\u001b[0m\u001b[0;34m\u001b[0m\u001b[0;34m\u001b[0m\u001b[0m\n",
            "\u001b[0;32m/content/mock5/__init__.py\u001b[0m in \u001b[0;36m_scan_with_iter\u001b[0;34m(self, iter)\u001b[0m\n\u001b[1;32m    535\u001b[0m     \u001b[0;32mfor\u001b[0m \u001b[0mr\u001b[0m\u001b[0;34m,\u001b[0m \u001b[0mc\u001b[0m \u001b[0;32min\u001b[0m \u001b[0miter\u001b[0m\u001b[0;34m:\u001b[0m\u001b[0;34m\u001b[0m\u001b[0;34m\u001b[0m\u001b[0m\n\u001b[1;32m    536\u001b[0m       \u001b[0mcnt\u001b[0m \u001b[0;34m=\u001b[0m \u001b[0mcnt\u001b[0m \u001b[0;34m+\u001b[0m \u001b[0;36m1\u001b[0m \u001b[0;32mif\u001b[0m \u001b[0mself\u001b[0m\u001b[0;34m[\u001b[0m\u001b[0mr\u001b[0m\u001b[0;34m,\u001b[0m \u001b[0mc\u001b[0m\u001b[0;34m]\u001b[0m \u001b[0;34m==\u001b[0m \u001b[0mp\u001b[0m \u001b[0;32melse\u001b[0m \u001b[0;36m1\u001b[0m\u001b[0;34m\u001b[0m\u001b[0;34m\u001b[0m\u001b[0m\n\u001b[0;32m--> 537\u001b[0;31m       \u001b[0mp\u001b[0m \u001b[0;34m=\u001b[0m \u001b[0mself\u001b[0m\u001b[0;34m[\u001b[0m\u001b[0mr\u001b[0m\u001b[0;34m,\u001b[0m \u001b[0mc\u001b[0m\u001b[0;34m]\u001b[0m\u001b[0;34m\u001b[0m\u001b[0;34m\u001b[0m\u001b[0m\n\u001b[0m\u001b[1;32m    538\u001b[0m       \u001b[0;32mif\u001b[0m \u001b[0mcnt\u001b[0m \u001b[0;34m>=\u001b[0m \u001b[0;36m5\u001b[0m \u001b[0;32mand\u001b[0m \u001b[0mp\u001b[0m \u001b[0;34m>\u001b[0m \u001b[0;36m0\u001b[0m\u001b[0;34m:\u001b[0m \u001b[0;32mreturn\u001b[0m \u001b[0mp\u001b[0m\u001b[0;34m\u001b[0m\u001b[0;34m\u001b[0m\u001b[0m\n\u001b[1;32m    539\u001b[0m     \u001b[0;32mreturn\u001b[0m \u001b[0;32mNone\u001b[0m\u001b[0;34m\u001b[0m\u001b[0;34m\u001b[0m\u001b[0m\n",
            "\u001b[0;32m/content/mock5/__init__.py\u001b[0m in \u001b[0;36m__getitem__\u001b[0;34m(self, key)\u001b[0m\n\u001b[1;32m    201\u001b[0m       \u001b[0mg\u001b[0m\u001b[0;34m[\u001b[0m\u001b[0;36m3\u001b[0m\u001b[0;34m,\u001b[0m \u001b[0;36m2\u001b[0m\u001b[0;34m]\u001b[0m  \u001b[0;31m# 4-th row, 3-rd column (because of 0-based indexing)\u001b[0m\u001b[0;34m\u001b[0m\u001b[0;34m\u001b[0m\u001b[0m\n\u001b[1;32m    202\u001b[0m     \"\"\"\n\u001b[0;32m--> 203\u001b[0;31m     \u001b[0mself\u001b[0m\u001b[0;34m.\u001b[0m\u001b[0m_check_key\u001b[0m\u001b[0;34m(\u001b[0m\u001b[0mkey\u001b[0m\u001b[0;34m)\u001b[0m\u001b[0;34m\u001b[0m\u001b[0;34m\u001b[0m\u001b[0m\n\u001b[0m\u001b[1;32m    204\u001b[0m     \u001b[0;32mreturn\u001b[0m \u001b[0mself\u001b[0m\u001b[0;34m.\u001b[0m\u001b[0mboard\u001b[0m\u001b[0;34m[\u001b[0m\u001b[0mself\u001b[0m\u001b[0;34m.\u001b[0m\u001b[0m_reduce_index\u001b[0m\u001b[0;34m(\u001b[0m\u001b[0mkey\u001b[0m\u001b[0;34m[\u001b[0m\u001b[0;36m0\u001b[0m\u001b[0;34m]\u001b[0m\u001b[0;34m,\u001b[0m \u001b[0mkey\u001b[0m\u001b[0;34m[\u001b[0m\u001b[0;36m1\u001b[0m\u001b[0;34m]\u001b[0m\u001b[0;34m)\u001b[0m\u001b[0;34m]\u001b[0m\u001b[0;34m\u001b[0m\u001b[0;34m\u001b[0m\u001b[0m\n\u001b[1;32m    205\u001b[0m \u001b[0;34m\u001b[0m\u001b[0m\n",
            "\u001b[0;32m/content/mock5/__init__.py\u001b[0m in \u001b[0;36m_check_key\u001b[0;34m(self, key)\u001b[0m\n\u001b[1;32m    181\u001b[0m     \u001b[0;32mif\u001b[0m \u001b[0;34m(\u001b[0m\u001b[0mtype\u001b[0m\u001b[0;34m(\u001b[0m\u001b[0mkey\u001b[0m\u001b[0;34m)\u001b[0m \u001b[0;32mis\u001b[0m \u001b[0;32mnot\u001b[0m \u001b[0mtuple\u001b[0m\u001b[0;34m)\u001b[0m \u001b[0;32mor\u001b[0m \u001b[0mlen\u001b[0m\u001b[0;34m(\u001b[0m\u001b[0mkey\u001b[0m\u001b[0;34m)\u001b[0m \u001b[0;34m!=\u001b[0m \u001b[0;36m2\u001b[0m\u001b[0;34m:\u001b[0m \u001b[0;32mraise\u001b[0m \u001b[0mTypeError\u001b[0m\u001b[0;34m\u001b[0m\u001b[0;34m\u001b[0m\u001b[0m\n\u001b[1;32m    182\u001b[0m     \u001b[0;32mif\u001b[0m \u001b[0;34m(\u001b[0m\u001b[0mtype\u001b[0m\u001b[0;34m(\u001b[0m\u001b[0mkey\u001b[0m\u001b[0;34m[\u001b[0m\u001b[0;36m0\u001b[0m\u001b[0;34m]\u001b[0m\u001b[0;34m)\u001b[0m \u001b[0;32mis\u001b[0m \u001b[0;32mnot\u001b[0m \u001b[0mint\u001b[0m\u001b[0;34m)\u001b[0m \u001b[0;32mor\u001b[0m \u001b[0;34m(\u001b[0m\u001b[0mtype\u001b[0m\u001b[0;34m(\u001b[0m\u001b[0mkey\u001b[0m\u001b[0;34m[\u001b[0m\u001b[0;36m1\u001b[0m\u001b[0;34m]\u001b[0m\u001b[0;34m)\u001b[0m \u001b[0;32mis\u001b[0m \u001b[0;32mnot\u001b[0m \u001b[0mint\u001b[0m\u001b[0;34m)\u001b[0m\u001b[0;34m:\u001b[0m \u001b[0;32mraise\u001b[0m \u001b[0mTypeError\u001b[0m\u001b[0;34m\u001b[0m\u001b[0;34m\u001b[0m\u001b[0m\n\u001b[0;32m--> 183\u001b[0;31m     \u001b[0;32mif\u001b[0m \u001b[0mkey\u001b[0m\u001b[0;34m[\u001b[0m\u001b[0;36m0\u001b[0m\u001b[0;34m]\u001b[0m \u001b[0;34m<\u001b[0m \u001b[0;36m0\u001b[0m \u001b[0;32mor\u001b[0m \u001b[0mkey\u001b[0m\u001b[0;34m[\u001b[0m\u001b[0;36m0\u001b[0m\u001b[0;34m]\u001b[0m \u001b[0;34m>=\u001b[0m \u001b[0mself\u001b[0m\u001b[0;34m.\u001b[0m\u001b[0mheight\u001b[0m\u001b[0;34m:\u001b[0m \u001b[0;32mraise\u001b[0m \u001b[0mIndexError\u001b[0m\u001b[0;34m\u001b[0m\u001b[0;34m\u001b[0m\u001b[0m\n\u001b[0m\u001b[1;32m    184\u001b[0m     \u001b[0;32mif\u001b[0m \u001b[0mkey\u001b[0m\u001b[0;34m[\u001b[0m\u001b[0;36m1\u001b[0m\u001b[0;34m]\u001b[0m \u001b[0;34m<\u001b[0m \u001b[0;36m0\u001b[0m \u001b[0;32mor\u001b[0m \u001b[0mkey\u001b[0m\u001b[0;34m[\u001b[0m\u001b[0;36m1\u001b[0m\u001b[0;34m]\u001b[0m \u001b[0;34m>=\u001b[0m \u001b[0mself\u001b[0m\u001b[0;34m.\u001b[0m\u001b[0mwidth\u001b[0m\u001b[0;34m:\u001b[0m \u001b[0;32mraise\u001b[0m \u001b[0mIndexError\u001b[0m\u001b[0;34m\u001b[0m\u001b[0;34m\u001b[0m\u001b[0m\n\u001b[1;32m    185\u001b[0m \u001b[0;34m\u001b[0m\u001b[0m\n",
            "\u001b[0;31mKeyboardInterrupt\u001b[0m: "
          ]
        }
      ]
    },
    {
      "cell_type": "markdown",
      "source": [
        "## Result\n",
        "\n",
        "10시간 가량 학습한 weight에 기반하여, 약 30시간 정도\n",
        "추가적으로 싸움을 붙여두어봤습니다.\n"
      ],
      "metadata": {
        "id": "G_gTY1l54vYN"
      }
    },
    {
      "cell_type": "markdown",
      "source": [
        "### Algorithm과 대국"
      ],
      "metadata": {
        "id": "ovVkGVQqdsTJ"
      }
    },
    {
      "cell_type": "code",
      "source": [
        "init_curr()"
      ],
      "metadata": {
        "id": "OPflMUR6fAuX"
      },
      "execution_count": 44,
      "outputs": []
    },
    {
      "cell_type": "code",
      "source": [
        "a = [m5aa, m5ad, m5pt, m5df]\n",
        "for i in range(len(a)):\n",
        "    test_agents(100, agent(policy_model(curr_pn)), a[i].agent)"
      ],
      "metadata": {
        "colab": {
          "base_uri": "https://localhost:8080/"
        },
        "id": "N8neGMy-Z5mH",
        "outputId": "04154774-742e-4fbd-b8c3-55c839403d74"
      },
      "execution_count": 46,
      "outputs": [
        {
          "output_type": "stream",
          "name": "stdout",
          "text": [
            "-- Test Result --\n",
            "* Agent1 = stochastic(model(7f4c7874e3d0)) \n",
            "* Agent2 = agent-analysis-based\n",
            "Total :   100\n",
            "A1 Win:    98 (0.980) (avg.mov   21.0)\n",
            "A2 Win:     2 (0.020) (avg.mov   40.5)\n",
            "-- Test Result --\n",
            "* Agent1 = stochastic(model(7f4c7874e3d0)) \n",
            "* Agent2 = agent-analysis-defensive\n",
            "Total :   100\n",
            "A1 Win:    95 (0.950) (avg.mov   21.9)\n",
            "A2 Win:     5 (0.050) (avg.mov   59.0)\n",
            "-- Test Result --\n",
            "* Agent1 = stochastic(model(7f4c7874e3d0)) \n",
            "* Agent2 = agent-pt\n",
            "Total :   100\n",
            "A1 Win:    85 (0.850) (avg.mov   25.9)\n",
            "A2 Win:    15 (0.150) (avg.mov   36.1)\n",
            "-- Test Result --\n",
            "* Agent1 = stochastic(model(7f4c7874e3d0)) \n",
            "* Agent2 = agent-df\n",
            "Total :   100\n",
            "A1 Win:    87 (0.870) (avg.mov   26.4)\n",
            "A2 Win:    13 (0.130) (avg.mov   90.8)\n"
          ]
        }
      ]
    },
    {
      "cell_type": "markdown",
      "source": [
        "승률 자체에 개선이 있는 것은 확인할 수 있습니다만,\n",
        "더 극적인 변화는 없습니다.\n",
        "이 시점부터는 단순히 시간을 쏟아붓는 것보다 복잡도나 탐색 방법을\n",
        "개선해야 할 듯 싶습니다."
      ],
      "metadata": {
        "id": "clRowkSNcYdU"
      }
    },
    {
      "cell_type": "code",
      "source": [
        "m = Mock5(H, W)\n",
        "m.play(agent(policy_model(curr_pn)), m5df.agent,\n",
        "  print_intermediate_state=False)\n",
        "m.plot()\n",
        "plt.show()\n",
        "plt.close()"
      ],
      "metadata": {
        "colab": {
          "base_uri": "https://localhost:8080/",
          "height": 976
        },
        "id": "vk3gisyhbSPa",
        "outputId": "e457cd76-4993-4d90-8abb-b4e10d66c606"
      },
      "execution_count": 51,
      "outputs": [
        {
          "output_type": "stream",
          "name": "stdout",
          "text": [
            "=====================================\n",
            " [ Turn  19 ; 2P's turn (tone = X) ]\n",
            "  | 0 1 2 3 4 5 6 7 8 9 A B C D E\n",
            "--+------------------------------\n",
            "0 | . . . . . . . . . . . . . . .\n",
            "1 | . . . . . . . . . . . . . . .\n",
            "2 | . . . . . . . . . . . . . . .\n",
            "3 | . . . . . . . . . . . . . . .\n",
            "4 | . . . . . . . . . . . . . . .\n",
            "5 | . . . . . . . . . . . . . . .\n",
            "6 | . . . . . O O O O O X . . . .\n",
            "7 | . . . . . . O . X . X . . . .\n",
            "8 | . . . . . . O X X X X O . . .\n",
            "9 | . . . . . . . . X . X . . . .\n",
            "A | . . . . . . . O . O . . . . .\n",
            "B | . . . . . . . . . . . . . . .\n",
            "C | . . . . . . . . . . . . . . .\n",
            "D | . . . . . . . . . . . . . . .\n",
            "E | . . . . . . . . . . . . . . .\n",
            "1p (agent-df) win!\n"
          ]
        },
        {
          "output_type": "display_data",
          "data": {
            "text/plain": [
              "<Figure size 1080x1080 with 1 Axes>"
            ],
            "image/png": "[encoded data removed]"
          },
          "metadata": {
            "needs_background": "light"
          }
        }
      ]
    },
    {
      "cell_type": "markdown",
      "source": [
        "한번씩 위처럼 백18을 흑19자리에 둬서 방어를 해야하는데,\n",
        "그러지 않아서 패배하는 경우를 확인할 수 있습니다.\n",
        "이 경우가 알고리즘끼리 싸움에서는 그다지 나타나지 않아서\n",
        "학습이 되지 않는, 일종의 탐색의 문제라고 보입니다."
      ],
      "metadata": {
        "id": "sI0w2VPidqHk"
      }
    },
    {
      "cell_type": "code",
      "source": [
        "m = Mock5(H, W)\n",
        "m.play(agent(policy_model(curr_pn)))"
      ],
      "metadata": {
        "id": "e-X3SrGDvgJ0"
      },
      "execution_count": null,
      "outputs": []
    },
    {
      "cell_type": "code",
      "source": [
        "m.plot()\n",
        "plt.show()"
      ],
      "metadata": {
        "id": "sbBTNOm02zVf"
      },
      "execution_count": null,
      "outputs": []
    }
  ]
}