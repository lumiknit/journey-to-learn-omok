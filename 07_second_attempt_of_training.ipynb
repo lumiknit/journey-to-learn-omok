{
  "nbformat": 4,
  "nbformat_minor": 0,
  "metadata": {
    "colab": {
      "name": "07_second_attempt_of_training.ipynb",
      "provenance": [],
      "collapsed_sections": []
    },
    "kernelspec": {
      "name": "python3",
      "display_name": "Python 3"
    },
    "language_info": {
      "name": "python"
    },
    "accelerator": "GPU"
  },
  "cells": [
    {
      "cell_type": "markdown",
      "source": [
        "# 07. Second Attempt of Training"
      ],
      "metadata": {
        "id": "W_W32e-bg-yj"
      }
    },
    {
      "cell_type": "markdown",
      "source": [
        "## 컨셉\n",
        "\n",
        "- 이전에 만들었던 새로운 generator를 바탕으로\n",
        "각 방향으로 대칭시킨 데이터를 모두 사용합니다.\n",
        "- 여기서는 기보에 점수를 연속으로 부여하지는\n",
        "않습니다.\n",
        "- 이길 경우 1, 질 경우 -1, 무승부일 경우 0으로\n",
        "기보에 값을 매겨 학습시킵니다.\n",
        "- 기보의 승패 정보가 계속 누적될 수 있도록\n",
        "$y=\\pm 1$을 점근선으로 갖는 $\\tanh$를\n",
        "신경망 말단에 배치합니다."
      ],
      "metadata": {
        "id": "MAKlXuJtZemg"
      }
    },
    {
      "cell_type": "markdown",
      "source": [
        "## 환경설정\n",
        "\n",
        "오목 학습에 필요한 모듈들을 모두 불러옵니다."
      ],
      "metadata": {
        "id": "soOb7IdDhaba"
      }
    },
    {
      "cell_type": "code",
      "source": [
        "!rm -rf *\n",
        "!git clone https://github.com/lumiknit/mock5.py\n",
        "!mv mock5.py/mock5 .\n",
        "!mv mock5.py/gen2_record/gen.cpp .\n",
        "!mv mock5.py/gen2_record/read_record.py .\n",
        "!g++ -O2 -fopenmp -o gen gen.cpp"
      ],
      "metadata": {
        "colab": {
          "base_uri": "https://localhost:8080/"
        },
        "id": "oXeXpK4PhidS",
        "outputId": "5bda5450-8bc2-4d32-e08c-9e5f6bd9b7b2"
      },
      "execution_count": 1,
      "outputs": [
        {
          "output_type": "stream",
          "name": "stdout",
          "text": [
            "Cloning into 'mock5.py'...\n",
            "remote: Enumerating objects: 117, done.\u001b[K\n",
            "remote: Counting objects: 100% (117/117), done.\u001b[K\n",
            "remote: Compressing objects: 100% (72/72), done.\u001b[K\n",
            "remote: Total 117 (delta 52), reused 106 (delta 41), pack-reused 0\u001b[K\n",
            "Receiving objects: 100% (117/117), 34.72 KiB | 11.57 MiB/s, done.\n",
            "Resolving deltas: 100% (52/52), done.\n"
          ]
        }
      ]
    },
    {
      "cell_type": "code",
      "source": [
        "from mock5 import Mock5\n",
        "from mock5.analysis import Analysis as M5Analysis\n",
        "from mock5.agent_random import agent as m5agent_random\n",
        "from mock5.agent_analysis_based import agent as m5agent_a\n",
        "\n",
        "import matplotlib.pyplot as plt\n",
        "\n",
        "import numpy as np\n",
        "\n",
        "import torch\n",
        "import torch.nn as nn\n",
        "import torch.optim as optim\n",
        "\n",
        "device = 'cuda' if torch.cuda.is_available() else 'cpu'\n",
        "print(\"Device: {}\".format(device))"
      ],
      "metadata": {
        "colab": {
          "base_uri": "https://localhost:8080/"
        },
        "id": "E7j0NXUZhxql",
        "outputId": "7927f8eb-d197-485f-eeff-77fee03928eb"
      },
      "execution_count": 2,
      "outputs": [
        {
          "output_type": "stream",
          "name": "stdout",
          "text": [
            "Device: cuda\n"
          ]
        }
      ]
    },
    {
      "cell_type": "markdown",
      "source": [
        "## 크기 설정"
      ],
      "metadata": {
        "id": "u4E1fvseh09_"
      }
    },
    {
      "cell_type": "code",
      "source": [
        "# Board Size\n",
        "W = 11\n",
        "H = W"
      ],
      "metadata": {
        "id": "cIJubv5Uox1D"
      },
      "execution_count": 3,
      "outputs": []
    },
    {
      "cell_type": "markdown",
      "source": [
        "## 신경망"
      ],
      "metadata": {
        "id": "Xid6x1JiqRVX"
      }
    },
    {
      "cell_type": "code",
      "source": [
        "class Flatten(torch.nn.Module):\n",
        "  def forward(self, x):\n",
        "    return x.flatten(1, -1)"
      ],
      "metadata": {
        "id": "rhmIQmwqrsss"
      },
      "execution_count": 4,
      "outputs": []
    },
    {
      "cell_type": "code",
      "source": [
        "class FlatSum(torch.nn.Module):\n",
        "  def forward(self, x):\n",
        "    while len(x.shape) > 2:\n",
        "      x = x.sum(dim=-1)\n",
        "    return x.sum(dim=-1, keepdim=True)"
      ],
      "metadata": {
        "id": "aZ15Fn036Vh0"
      },
      "execution_count": 5,
      "outputs": []
    },
    {
      "cell_type": "code",
      "source": [
        "LW = W // 2 // 2\n",
        "model = nn.Sequential(\n",
        "    nn.Conv2d(3, 32, 5, padding='same'),\n",
        "    nn.ReLU(),\n",
        "    nn.Conv2d(32, 64, 3, padding='same'),\n",
        "    nn.ReLU(),\n",
        "    nn.Conv2d(64, 4, 3, padding='same'),\n",
        "    nn.ReLU(),\n",
        "    #FlatSum(),\n",
        "    Flatten(),\n",
        "    nn.Linear(4 * W * W, 1),\n",
        "    nn.Tanh(),\n",
        ").to(device)\n",
        "\n",
        "loss_fn = nn.MSELoss()"
      ],
      "metadata": {
        "id": "VZRu0UqArCUv"
      },
      "execution_count": 15,
      "outputs": []
    },
    {
      "cell_type": "code",
      "source": [
        "def agent_model(game):\n",
        "  idxs, Xs = game.tensors_with_a_stone()\n",
        "  X = Xs.to(device)\n",
        "  with torch.no_grad():\n",
        "    y = model(X)\n",
        "  j = torch.argmax(y)\n",
        "  k = idxs[j]\n",
        "  return (k // W), (k % W)"
      ],
      "metadata": {
        "id": "GjJR5TRvuz8M"
      },
      "execution_count": 7,
      "outputs": []
    },
    {
      "cell_type": "markdown",
      "source": [
        "## 데이터 생성"
      ],
      "metadata": {
        "id": "2HIfSHu2nr9M"
      }
    },
    {
      "cell_type": "code",
      "source": [
        "from read_record import conv_records_from_array\n",
        "from read_record import conv_records_from_file"
      ],
      "metadata": {
        "id": "4zAazJJZmkne"
      },
      "execution_count": 8,
      "outputs": []
    },
    {
      "cell_type": "code",
      "source": [
        "import os\n",
        "def gen_data(size, rnd):\n",
        "  filename = \"temp.data\"\n",
        "  os.system(\"./gen {} {} {} {} {}\".format(filename, size, H, W, rnd))\n",
        "  return conv_records_from_file(W, filename)"
      ],
      "metadata": {
        "id": "RY0Ymy4NpPYS"
      },
      "execution_count": 9,
      "outputs": []
    },
    {
      "cell_type": "markdown",
      "source": [
        "## 학습"
      ],
      "metadata": {
        "id": "q1V2Hbps5wEZ"
      }
    },
    {
      "cell_type": "code",
      "source": [
        "def learn(n_epoch, batch_size, repeat_for_batch, learning_rate):\n",
        "  optimizer = optim.SGD(\n",
        "      model.parameters(),\n",
        "      lr=learning_rate,\n",
        "      momentum=0.5,\n",
        "      weight_decay=1e-5,\n",
        "      nesterov=True,\n",
        "  )\n",
        "\n",
        "  epsilon = 0.03\n",
        "  if repeat_for_batch > 50: log_int = int(repeat_for_batch / 10)\n",
        "  elif repeat_for_batch > 5: log_int = 5\n",
        "  else: log_int = 1\n",
        "  \n",
        "  acc_n = 0\n",
        "  acc_loss = 0\n",
        "\n",
        "  for epoch in range(n_epoch):\n",
        "    print(\"-- Epoch {} --\".format(epoch))\n",
        "    X, Y = gen_data(batch_size, epsilon)\n",
        "    X = X.to(device)\n",
        "    Y = Y.to(device)\n",
        "    ys = torch.abs(Y).mean()\n",
        "    print(\"Data Generated! (Sample = {})\".format(X.shape[0]))\n",
        "\n",
        "    for i in range(repeat_for_batch):\n",
        "      optimizer.zero_grad()\n",
        "      Y_ = model(X)\n",
        "      loss = loss_fn(Y_, Y)\n",
        "      loss.backward()\n",
        "      optimizer.step()\n",
        "\n",
        "      acc_loss += loss.item()\n",
        "      acc_n += 1\n",
        "\n",
        "      if i % log_int == log_int - 1 or i == repeat_for_batch - 1:\n",
        "        print(\"E {:.3f}: Loss = {:.6f}\".format(\n",
        "            epoch + (i + 1) / repeat_for_batch, acc_loss / acc_n / ys.item()\n",
        "        ))\n",
        "        acc_loss = 0\n",
        "        acc_n = 0"
      ],
      "metadata": {
        "id": "TeM_ykKksD08"
      },
      "execution_count": 14,
      "outputs": []
    },
    {
      "cell_type": "code",
      "source": [
        "torch.cuda.empty_cache()\n",
        "# Initialization\n",
        "learn(4, 100, 400, 2e-2)\n",
        "# \n",
        "learn(10, 30, 20, 5e-3)\n",
        "learn(20, 10, 50, 1e-3)"
      ],
      "metadata": {
        "colab": {
          "base_uri": "https://localhost:8080/"
        },
        "id": "OPtZ1Jl7tx5m",
        "outputId": "35370923-6853-406c-9b0f-685d45cc660f"
      },
      "execution_count": 17,
      "outputs": [
        {
          "output_type": "stream",
          "name": "stdout",
          "text": [
            "-- Epoch 0 --\n",
            "Data Generated! (Sample = 69872)\n",
            "E 0.100: Loss = 0.998458\n",
            "E 0.200: Loss = 0.997393\n",
            "E 0.300: Loss = 0.996104\n",
            "E 0.400: Loss = 0.994450\n",
            "E 0.500: Loss = 0.992198\n",
            "E 0.600: Loss = 0.989082\n",
            "E 0.700: Loss = 0.984831\n",
            "E 0.800: Loss = 0.979575\n",
            "E 0.900: Loss = 0.973841\n",
            "E 1.000: Loss = 0.967795\n",
            "-- Epoch 1 --\n",
            "Data Generated! (Sample = 69056)\n",
            "E 1.100: Loss = 1.010579\n",
            "E 1.200: Loss = 1.002192\n",
            "E 1.300: Loss = 1.000157\n",
            "E 1.400: Loss = 0.998445\n",
            "E 1.500: Loss = 0.996602\n",
            "E 1.600: Loss = 0.994516\n",
            "E 1.700: Loss = 0.991993\n",
            "E 1.800: Loss = 0.988683\n",
            "E 1.900: Loss = 0.984184\n",
            "E 2.000: Loss = 0.977955\n",
            "-- Epoch 2 --\n",
            "Data Generated! (Sample = 62160)\n",
            "E 2.100: Loss = 0.992634\n",
            "E 2.200: Loss = 0.983078\n",
            "E 2.300: Loss = 0.971966\n",
            "E 2.400: Loss = 0.962083\n",
            "E 2.500: Loss = 0.945643\n",
            "E 2.600: Loss = 0.932253\n",
            "E 2.700: Loss = 0.926342\n",
            "E 2.800: Loss = 0.918253\n",
            "E 2.900: Loss = 0.910770\n",
            "E 3.000: Loss = 0.904183\n",
            "-- Epoch 3 --\n",
            "Data Generated! (Sample = 69136)\n",
            "E 3.100: Loss = 0.979088\n",
            "E 3.200: Loss = 0.955552\n",
            "E 3.300: Loss = 0.946232\n",
            "E 3.400: Loss = 0.940620\n",
            "E 3.500: Loss = 0.933867\n",
            "E 3.600: Loss = 0.929065\n",
            "E 3.700: Loss = 0.923623\n",
            "E 3.800: Loss = 0.919594\n",
            "E 3.900: Loss = 0.914163\n",
            "E 4.000: Loss = 0.908449\n",
            "-- Epoch 0 --\n",
            "Data Generated! (Sample = 19856)\n",
            "E 0.250: Loss = 0.899693\n",
            "E 0.500: Loss = 0.892074\n",
            "E 0.750: Loss = 0.886961\n",
            "E 1.000: Loss = 0.882562\n",
            "-- Epoch 1 --\n",
            "Data Generated! (Sample = 18816)\n",
            "E 1.250: Loss = 0.948752\n",
            "E 1.500: Loss = 0.941077\n",
            "E 1.750: Loss = 0.936322\n",
            "E 2.000: Loss = 0.931620\n",
            "-- Epoch 2 --\n",
            "Data Generated! (Sample = 17856)\n",
            "E 2.250: Loss = 1.044310\n",
            "E 2.500: Loss = 1.011006\n",
            "E 2.750: Loss = 0.991796\n",
            "E 3.000: Loss = 0.982094\n",
            "-- Epoch 3 --\n",
            "Data Generated! (Sample = 20400)\n",
            "E 3.250: Loss = 0.995937\n",
            "E 3.500: Loss = 0.990622\n",
            "E 3.750: Loss = 0.989024\n",
            "E 4.000: Loss = 0.988044\n",
            "-- Epoch 4 --\n",
            "Data Generated! (Sample = 16976)\n",
            "E 4.250: Loss = 1.001592\n",
            "E 4.500: Loss = 0.998261\n",
            "E 4.750: Loss = 0.997055\n",
            "E 5.000: Loss = 0.995993\n",
            "-- Epoch 5 --\n",
            "Data Generated! (Sample = 15712)\n",
            "E 5.250: Loss = 1.001332\n",
            "E 5.500: Loss = 0.999511\n",
            "E 5.750: Loss = 0.998369\n",
            "E 6.000: Loss = 0.997164\n",
            "-- Epoch 6 --\n",
            "Data Generated! (Sample = 23472)\n",
            "E 6.250: Loss = 0.996424\n",
            "E 6.500: Loss = 0.994506\n",
            "E 6.750: Loss = 0.991604\n",
            "E 7.000: Loss = 0.987305\n",
            "-- Epoch 7 --\n",
            "Data Generated! (Sample = 15376)\n",
            "E 7.250: Loss = 0.920659\n",
            "E 7.500: Loss = 0.888187\n",
            "E 7.750: Loss = 0.882622\n",
            "E 8.000: Loss = 0.879060\n",
            "-- Epoch 8 --\n",
            "Data Generated! (Sample = 18592)\n",
            "E 8.250: Loss = 1.033102\n",
            "E 8.500: Loss = 0.996350\n",
            "E 8.750: Loss = 0.994303\n",
            "E 9.000: Loss = 0.991857\n",
            "-- Epoch 9 --\n",
            "Data Generated! (Sample = 24192)\n",
            "E 9.250: Loss = 0.992203\n",
            "E 9.500: Loss = 0.991294\n",
            "E 9.750: Loss = 0.990401\n",
            "E 10.000: Loss = 0.989528\n",
            "-- Epoch 0 --\n",
            "Data Generated! (Sample = 7120)\n",
            "E 0.100: Loss = 1.052005\n",
            "E 0.200: Loss = 1.031027\n",
            "E 0.300: Loss = 1.023523\n",
            "E 0.400: Loss = 1.019779\n",
            "E 0.500: Loss = 1.017439\n",
            "E 0.600: Loss = 1.015775\n",
            "E 0.700: Loss = 1.014418\n",
            "E 0.800: Loss = 1.013254\n",
            "E 0.900: Loss = 1.012203\n",
            "E 1.000: Loss = 1.011299\n",
            "-- Epoch 1 --\n",
            "Data Generated! (Sample = 6032)\n",
            "E 1.100: Loss = 0.971507\n",
            "E 1.200: Loss = 0.969581\n",
            "E 1.300: Loss = 0.968130\n",
            "E 1.400: Loss = 0.966990\n",
            "E 1.500: Loss = 0.966140\n",
            "E 1.600: Loss = 0.965509\n",
            "E 1.700: Loss = 0.964961\n",
            "E 1.800: Loss = 0.964482\n",
            "E 1.900: Loss = 0.964034\n",
            "E 2.000: Loss = 0.963595\n",
            "-- Epoch 2 --\n",
            "Data Generated! (Sample = 6208)\n",
            "E 2.100: Loss = 0.975892\n",
            "E 2.200: Loss = 0.974801\n",
            "E 2.300: Loss = 0.973630\n",
            "E 2.400: Loss = 0.972439\n",
            "E 2.500: Loss = 0.971314\n",
            "E 2.600: Loss = 0.970250\n",
            "E 2.700: Loss = 0.969182\n",
            "E 2.800: Loss = 0.968123\n",
            "E 2.900: Loss = 0.967073\n",
            "E 3.000: Loss = 0.966001\n",
            "-- Epoch 3 --\n",
            "Data Generated! (Sample = 4592)\n",
            "E 3.100: Loss = 1.025732\n",
            "E 3.200: Loss = 1.023805\n",
            "E 3.300: Loss = 1.021866\n",
            "E 3.400: Loss = 1.019922\n",
            "E 3.500: Loss = 1.017847\n",
            "E 3.600: Loss = 1.015763\n",
            "E 3.700: Loss = 1.013754\n",
            "E 3.800: Loss = 1.011436\n",
            "E 3.900: Loss = 1.009088\n",
            "E 4.000: Loss = 1.006756\n",
            "-- Epoch 4 --\n",
            "Data Generated! (Sample = 8256)\n",
            "E 4.100: Loss = 0.997638\n",
            "E 4.200: Loss = 0.995463\n",
            "E 4.300: Loss = 0.993690\n",
            "E 4.400: Loss = 0.992322\n",
            "E 4.500: Loss = 0.991180\n",
            "E 4.600: Loss = 0.990167\n",
            "E 4.700: Loss = 0.989249\n",
            "E 4.800: Loss = 0.988420\n",
            "E 4.900: Loss = 0.987640\n",
            "E 5.000: Loss = 0.986888\n",
            "-- Epoch 5 --\n",
            "Data Generated! (Sample = 6080)\n",
            "E 5.100: Loss = 0.970435\n",
            "E 5.200: Loss = 0.963229\n",
            "E 5.300: Loss = 0.953604\n",
            "E 5.400: Loss = 0.944864\n",
            "E 5.500: Loss = 0.938854\n",
            "E 5.600: Loss = 0.934805\n",
            "E 5.700: Loss = 0.931848\n",
            "E 5.800: Loss = 0.929381\n",
            "E 5.900: Loss = 0.927128\n",
            "E 6.000: Loss = 0.924955\n",
            "-- Epoch 6 --\n",
            "Data Generated! (Sample = 5840)\n",
            "E 6.100: Loss = 1.047819\n",
            "E 6.200: Loss = 1.043547\n",
            "E 6.300: Loss = 1.039199\n",
            "E 6.400: Loss = 1.035223\n",
            "E 6.500: Loss = 1.031615\n",
            "E 6.600: Loss = 1.028456\n",
            "E 6.700: Loss = 1.025573\n",
            "E 6.800: Loss = 1.022763\n",
            "E 6.900: Loss = 1.019996\n",
            "E 7.000: Loss = 1.017617\n",
            "-- Epoch 7 --\n",
            "Data Generated! (Sample = 4688)\n",
            "E 7.100: Loss = 0.959808\n",
            "E 7.200: Loss = 0.949922\n",
            "E 7.300: Loss = 0.941983\n",
            "E 7.400: Loss = 0.935470\n",
            "E 7.500: Loss = 0.930084\n",
            "E 7.600: Loss = 0.925296\n",
            "E 7.700: Loss = 0.920930\n",
            "E 7.800: Loss = 0.916929\n",
            "E 7.900: Loss = 0.913061\n",
            "E 8.000: Loss = 0.909255\n",
            "-- Epoch 8 --\n",
            "Data Generated! (Sample = 8192)\n",
            "E 8.100: Loss = 1.004707\n",
            "E 8.200: Loss = 1.003417\n",
            "E 8.300: Loss = 1.002058\n",
            "E 8.400: Loss = 1.000660\n",
            "E 8.500: Loss = 0.999190\n",
            "E 8.600: Loss = 0.997645\n",
            "E 8.700: Loss = 0.995996\n",
            "E 8.800: Loss = 0.994134\n",
            "E 8.900: Loss = 0.991908\n",
            "E 9.000: Loss = 0.989268\n",
            "-- Epoch 9 --\n",
            "Data Generated! (Sample = 5376)\n",
            "E 9.100: Loss = 0.887162\n",
            "E 9.200: Loss = 0.878603\n",
            "E 9.300: Loss = 0.870055\n",
            "E 9.400: Loss = 0.861638\n",
            "E 9.500: Loss = 0.853142\n",
            "E 9.600: Loss = 0.844589\n",
            "E 9.700: Loss = 0.835937\n",
            "E 9.800: Loss = 0.827145\n",
            "E 9.900: Loss = 0.818174\n",
            "E 10.000: Loss = 0.809004\n",
            "-- Epoch 10 --\n",
            "Data Generated! (Sample = 7760)\n",
            "E 10.100: Loss = 1.042569\n",
            "E 10.200: Loss = 1.040007\n",
            "E 10.300: Loss = 1.037241\n",
            "E 10.400: Loss = 1.034595\n",
            "E 10.500: Loss = 1.032049\n",
            "E 10.600: Loss = 1.029591\n",
            "E 10.700: Loss = 1.027233\n",
            "E 10.800: Loss = 1.024984\n",
            "E 10.900: Loss = 1.022822\n",
            "E 11.000: Loss = 1.020732\n",
            "-- Epoch 11 --\n",
            "Data Generated! (Sample = 6288)\n",
            "E 11.100: Loss = 0.993288\n",
            "E 11.200: Loss = 0.990404\n",
            "E 11.300: Loss = 0.987474\n",
            "E 11.400: Loss = 0.984511\n",
            "E 11.500: Loss = 0.981600\n",
            "E 11.600: Loss = 0.978674\n",
            "E 11.700: Loss = 0.975702\n",
            "E 11.800: Loss = 0.972969\n",
            "E 11.900: Loss = 0.970499\n",
            "E 12.000: Loss = 0.968200\n",
            "-- Epoch 12 --\n",
            "Data Generated! (Sample = 5984)\n",
            "E 12.100: Loss = 1.007468\n",
            "E 12.200: Loss = 1.000647\n",
            "E 12.300: Loss = 0.993369\n",
            "E 12.400: Loss = 0.987570\n",
            "E 12.500: Loss = 0.983383\n",
            "E 12.600: Loss = 0.980014\n",
            "E 12.700: Loss = 0.976866\n",
            "E 12.800: Loss = 0.973723\n",
            "E 12.900: Loss = 0.970645\n",
            "E 13.000: Loss = 0.967678\n",
            "-- Epoch 13 --\n",
            "Data Generated! (Sample = 6512)\n",
            "E 13.100: Loss = 1.034951\n",
            "E 13.200: Loss = 0.989471\n",
            "E 13.300: Loss = 0.976694\n",
            "E 13.400: Loss = 0.971708\n",
            "E 13.500: Loss = 0.968885\n",
            "E 13.600: Loss = 0.966941\n",
            "E 13.700: Loss = 0.965400\n",
            "E 13.800: Loss = 0.964129\n",
            "E 13.900: Loss = 0.963060\n",
            "E 14.000: Loss = 0.962057\n",
            "-- Epoch 14 --\n",
            "Data Generated! (Sample = 7072)\n",
            "E 14.100: Loss = 1.080067\n",
            "E 14.200: Loss = 1.076453\n",
            "E 14.300: Loss = 1.072658\n",
            "E 14.400: Loss = 1.068755\n",
            "E 14.500: Loss = 1.064624\n",
            "E 14.600: Loss = 1.060293\n",
            "E 14.700: Loss = 1.055734\n",
            "E 14.800: Loss = 1.050767\n",
            "E 14.900: Loss = 1.045526\n",
            "E 15.000: Loss = 1.040755\n",
            "-- Epoch 15 --\n",
            "Data Generated! (Sample = 8944)\n",
            "E 15.100: Loss = 0.920614\n",
            "E 15.200: Loss = 0.918698\n",
            "E 15.300: Loss = 0.916845\n",
            "E 15.400: Loss = 0.915116\n",
            "E 15.500: Loss = 0.913475\n",
            "E 15.600: Loss = 0.911911\n",
            "E 15.700: Loss = 0.910435\n",
            "E 15.800: Loss = 0.909005\n",
            "E 15.900: Loss = 0.907638\n",
            "E 16.000: Loss = 0.906328\n",
            "-- Epoch 16 --\n",
            "Data Generated! (Sample = 6032)\n",
            "E 16.100: Loss = 0.955760\n",
            "E 16.200: Loss = 0.946298\n",
            "E 16.300: Loss = 0.940605\n",
            "E 16.400: Loss = 0.936797\n",
            "E 16.500: Loss = 0.933851\n",
            "E 16.600: Loss = 0.931372\n",
            "E 16.700: Loss = 0.929193\n",
            "E 16.800: Loss = 0.927219\n",
            "E 16.900: Loss = 0.925364\n",
            "E 17.000: Loss = 0.923642\n",
            "-- Epoch 17 --\n",
            "Data Generated! (Sample = 6816)\n",
            "E 17.100: Loss = 1.040756\n",
            "E 17.200: Loss = 1.038673\n",
            "E 17.300: Loss = 1.036702\n",
            "E 17.400: Loss = 1.034931\n",
            "E 17.500: Loss = 1.033302\n",
            "E 17.600: Loss = 1.031758\n",
            "E 17.700: Loss = 1.030277\n",
            "E 17.800: Loss = 1.028837\n",
            "E 17.900: Loss = 1.027393\n",
            "E 18.000: Loss = 1.025925\n",
            "-- Epoch 18 --\n",
            "Data Generated! (Sample = 4864)\n",
            "E 18.100: Loss = 1.060893\n",
            "E 18.200: Loss = 1.058619\n",
            "E 18.300: Loss = 1.056361\n",
            "E 18.400: Loss = 1.054133\n",
            "E 18.500: Loss = 1.051865\n",
            "E 18.600: Loss = 1.049548\n",
            "E 18.700: Loss = 1.047232\n",
            "E 18.800: Loss = 1.044949\n",
            "E 18.900: Loss = 1.042668\n",
            "E 19.000: Loss = 1.040465\n",
            "-- Epoch 19 --\n",
            "Data Generated! (Sample = 6240)\n",
            "E 19.100: Loss = 0.941002\n",
            "E 19.200: Loss = 0.937319\n",
            "E 19.300: Loss = 0.932235\n",
            "E 19.400: Loss = 0.925259\n",
            "E 19.500: Loss = 0.916083\n",
            "E 19.600: Loss = 0.903496\n",
            "E 19.700: Loss = 0.886439\n",
            "E 19.800: Loss = 0.861398\n",
            "E 19.900: Loss = 0.822764\n",
            "E 20.000: Loss = 0.780540\n"
          ]
        }
      ]
    },
    {
      "cell_type": "markdown",
      "source": [
        "## 평가"
      ],
      "metadata": {
        "id": "6v_43ucpt1kQ"
      }
    },
    {
      "cell_type": "code",
      "source": [
        "def test_agents(num_game, agent1, agent2):\n",
        "  w1 = 0\n",
        "  w2 = 0\n",
        "  for i in range(num_game):\n",
        "    g = Mock5(H, W)\n",
        "    result = g.play(agent1, agent2, print_intermediate_state=False, print_messages=False)\n",
        "    if result == 1: w1 += 1\n",
        "    elif result == 2: w2 += 1\n",
        "  print(\"-- Test Result --\")\n",
        "  print(\"Agent1 = {} / Agent2 = {}\".format(agent1, agent2))\n",
        "  print(\"Total: {}\".format(num_game))\n",
        "  print(\"A1 Win: {} ({:.3f})\".format(w1, w1 / num_game))\n",
        "  print(\"A2 Win: {} ({:.3f})\".format(w2, w2 / num_game))"
      ],
      "metadata": {
        "id": "rJdISTvIu699"
      },
      "execution_count": 18,
      "outputs": []
    },
    {
      "cell_type": "code",
      "source": [
        "test_agents(20, m5agent_random, agent_model)"
      ],
      "metadata": {
        "colab": {
          "base_uri": "https://localhost:8080/"
        },
        "id": "_VqRinukv6RU",
        "outputId": "7ea5d74b-2dd7-4a32-9cee-564866382d40"
      },
      "execution_count": 19,
      "outputs": [
        {
          "output_type": "stream",
          "name": "stdout",
          "text": [
            "-- Test Result --\n",
            "Agent1 = <function agent at 0x7fa05860f3b0> / Agent2 = <function agent_model at 0x7f9f960cf3b0>\n",
            "Total: 20\n",
            "A1 Win: 0 (0.000)\n",
            "A2 Win: 20 (1.000)\n"
          ]
        }
      ]
    },
    {
      "cell_type": "code",
      "source": [
        "g = Mock5(H, W)\n",
        "g.play(m5agent_random, agent_model,\n",
        "       print_intermediate_state=False)\n",
        "g.plot()\n",
        "plt.show()\n",
        "plt.close()"
      ],
      "metadata": {
        "colab": {
          "base_uri": "https://localhost:8080/",
          "height": 907
        },
        "id": "XIDK8KIBv9z5",
        "outputId": "fd95c057-9bd8-466f-8852-5c59aa7d53b8"
      },
      "execution_count": 20,
      "outputs": [
        {
          "output_type": "stream",
          "name": "stdout",
          "text": [
            "=====================================\n",
            " [ Turn  36 ; 1P's turn (tone = O) ]\n",
            "  | 0 1 2 3 4 5 6 7 8 9 A\n",
            "--+----------------------\n",
            "0 | . . . . . . X O . . .\n",
            "1 | . . O . . . . . O . .\n",
            "2 | O . . . . . X . . . .\n",
            "3 | . . . . . X . . . O O\n",
            "4 | X . . . X . X . . . .\n",
            "5 | . . . X . X O X O X O\n",
            "6 | . . . . X X X O X . .\n",
            "7 | . . O . . O . X . . .\n",
            "8 | . . . . . . X . O . .\n",
            "9 | . . . . . X . . . . .\n",
            "A | . O O O . . X . . O O\n",
            "2p (<function agent_model at 0x7f9f960cf3b0>) win!\n"
          ]
        },
        {
          "output_type": "display_data",
          "data": {
            "text/plain": [
              "<Figure size 792x792 with 1 Axes>"
            ],
            "image/png": "[encoded data removed]"
          },
          "metadata": {
            "needs_background": "light"
          }
        }
      ]
    },
    {
      "cell_type": "code",
      "source": [
        "g = Mock5(H, W)\n",
        "g.play(m5agent_a, agent_model,\n",
        "       print_intermediate_state=False)\n",
        "g.plot()\n",
        "plt.show()\n",
        "plt.close()"
      ],
      "metadata": {
        "colab": {
          "base_uri": "https://localhost:8080/",
          "height": 907
        },
        "id": "KPcLcvyHS0Ix",
        "outputId": "f02d0f3f-cefa-403f-d7c2-68bdbbab1e5c"
      },
      "execution_count": 21,
      "outputs": [
        {
          "output_type": "stream",
          "name": "stdout",
          "text": [
            "=====================================\n",
            " [ Turn  10 ; 1P's turn (tone = O) ]\n",
            "  | 0 1 2 3 4 5 6 7 8 9 A\n",
            "--+----------------------\n",
            "0 | . . . . . . . . . . .\n",
            "1 | . . . . . . . . . . .\n",
            "2 | . . . . . . . . . . .\n",
            "3 | . . . . . O . . . . .\n",
            "4 | . . . . . . O . . . .\n",
            "5 | . . . O X X X X X . .\n",
            "6 | . . . . . . O . . . .\n",
            "7 | . . . . . . . O . . .\n",
            "8 | . . . . . . . . . . .\n",
            "9 | . . . . . . . . . . .\n",
            "A | . . . . . . . . . . .\n",
            "2p (agent-analysis-based) win!\n"
          ]
        },
        {
          "output_type": "display_data",
          "data": {
            "text/plain": [
              "<Figure size 792x792 with 1 Axes>"
            ],
            "image/png": "[encoded data removed]"
          },
          "metadata": {
            "needs_background": "light"
          }
        }
      ]
    },
    {
      "cell_type": "markdown",
      "source": [
        "## 생각해볼 점"
      ],
      "metadata": {
        "id": "TsFwK6jV96Ar"
      }
    },
    {
      "cell_type": "markdown",
      "source": [
        "### Complexity\n",
        "\n",
        "현재 직접 작성한 오목 알고리즘은 각 칸과 각 방향에\n",
        "대해 돌이 나열된 배치를 보고 점수를 매기는\n",
        "방식입니다.\n",
        "이 때문에 각 칸에 대해 4개 방향에 대한 정보를\n",
        "가지는 것이 최소한의 선이라고 보고,\n",
        "그의 몇 배를 가지면 학습에 충분하지 않을까 생각을\n",
        "했습니다.\n",
        "다만, 실제로는 30개 정도의 feature를 입출력하는\n",
        "CNN을 2층만 쌓는 경우는 수렴은 빠르지만 그\n",
        "데이터를 제외하고는 제대로된 처리를 아예\n",
        "하지 못하는 것을 볼 수 있습니다.\n",
        "(이는 랜덤으로 돌을 두는 `agent_random`\n",
        "과 게임을 진행시키면 승률 $80\\%$를\n",
        "넘기지도 못하는 것으로 확인할 수 있습니다.)\n",
        "\n",
        "현재도 CNN을 3층으로 쌓아서 학습하고 있는데,\n",
        "이 정도로도 특정 데이터셋이 아닌,\n",
        "전체적으로 수렴해가는 모습을 보기는 힘듭니다.\n",
        "\n",
        "그러면서도 CNN 3층으로도 수렴이 느린 것을 보면\n",
        "층을 더 늘리게 되면 학습이 얼마나 더뎌질지 불 보듯\n",
        "뻔합니다.\n",
        "\n",
        "이 때문에 신경망 자체의 feature의 수나\n",
        "층을 좀 더 다양하게 조절해볼 필요가 있어 보입니다."
      ],
      "metadata": {
        "id": "l1WNfJJCa_rg"
      }
    },
    {
      "cell_type": "markdown",
      "source": [
        "### Batch Size\n",
        "\n",
        "MCTS의 경우에는 한번 경험한 경로에 대한 정보를\n",
        "모두 기록을 해나가는데, 이 때문에 크기가 너무\n",
        "크다는 문제는 있지만, 정확하게 기보를 따라가며\n",
        "값을 증가시키다보니, 값이 과하게 튀는 경우가\n",
        "발생하기는 힘듭니다.\n",
        "\n",
        "하지만 DNN의 경우는 말이 다른데, 여기서는\n",
        "트리가 아니라 신경망의 parameter를 변화시키다보니\n",
        "흔히 해당 기보 뿐만 아니라 다른 기보나 상태에 대한\n",
        "출력에도 학습이 영향을 미치게 됩니다.\n",
        "\n",
        "여기서 batch size에 대한 고민이 생기게 됩니다.\n",
        "batch size가 너무 작으면 특정 데이터에 대한\n",
        "loss를 줄이기 위해서 parameter가 바뀌어\n",
        "나가게 되는데, 이 경우 과적합 하는 방향으로 학습될\n",
        "가능성이 있으며, 애초에 모든 상태를 포함하는 데이터 공간이 너무 커서\n",
        "아무리 batch size를 늘려도\n",
        "이 데이터셋의 극미한 일부도 커버하지 못한다고\n",
        "생각합니다.\n",
        "\n",
        "결국에는 learning rate를 매우 낮춰서 학습용\n",
        "batch의 영향을 줄이거나 batch size를 크게\n",
        "잡거나 해야되는데, 어느 쪽이든 시간이나 데이터\n",
        "수집과 관련한 문제가 생깁니다."
      ],
      "metadata": {
        "id": "sfXtUBmtcwmM"
      }
    },
    {
      "cell_type": "markdown",
      "source": [
        "### Necessity of RL\n",
        "\n",
        "제일 처음에 Q-Learning 같은 방식으로 학습을\n",
        "진행했을 때는 exploration 후 그 결과를 바탕으로\n",
        "신경망을 학습시키도록 하였습니다.\n",
        "즉, 완전히 별개의 agent의 기보를 바탕으로 학습하는\n",
        "것이 아닌, 자기 자신이 진행한 기보를 바탕으로\n",
        "학습을 하였습니다.\n",
        "\n",
        "이 방식으로만 학습을 하기에는 (Q-Learning의\n",
        "정의역이 너무 큰 것도 있었지만)\n",
        "자신이 직접 각 수에 대해 판단을 하는 과정이 필요해\n",
        "시간 문제로 데이터를 많이 만들고 학습하기\n",
        "힘들다는 문제가 있었습니다.\n",
        "그래서 방향을 바꿔서 행동을 제외하고\n",
        "상태에 대해서만 학습을 하되,\n",
        "데이터는 다른 agent의 기보를 가져와서\n",
        "그대로 학습하도록 한 것입니다.\n",
        "\n",
        "이렇게 방향을 바꾸면서 문제 자체는 강화학습 대신에\n",
        "비교적 단순한 심층학습으로 바뀌었고,\n",
        "적어도 loss 자체가 감소한다든가\n",
        "랜덤과 싸워서 이길 수 있을 정도는 되었습니다.\n",
        "\n",
        "하지만 여전히 `agent_analysis_based`와\n",
        "상대하게 되면 상대의 수를 한번도 막지 못하고\n",
        "패합니다.\n",
        "\n",
        "이 때문에 단순히 다른 agent끼리 둔 결과만을\n",
        "반복적으로 보는 것보다는, 자신이 두는 방식으로\n",
        "패했을 때 다음에는 그렇게 두지 않기 위한\n",
        "오답노트가 필요한 것입니다.\n",
        "\n",
        "다행히 제일 처음에 구현했던 신경망과 비교했을 때\n",
        "현재는 이 오답노트를 적용하기가 비교적 쉽다고\n",
        "봅니다.\n",
        "우선 일단 기보만 완성된다면 굳이 각 수에 대해\n",
        "$Q$ 값을 재계산할 필요 없이 승패여부만 알면 되며,\n",
        "대칭을 계산하기 때문에 최소한의 수로 패배한다고\n",
        "해도 $9 \\times 16 = 144$ 개 정도의\n",
        "데이터는 생겨납니다.\n",
        "이 기보를 빠르게 생성하는 여전히 문제겠지만,\n",
        "적어도 이전처럼 게임 하나 진행하는 것도 오래\n",
        "걸릴 정도는 아니라는 것입니다.\n",
        "\n",
        "이 방식은 Q-learning은 아니지만, 기보를\n",
        "바탕으로 상태에 점수를 매겨서 각 상태에 대한\n",
        "승률을 근사시켜 간다는 점에서 강화학습에 가깝다고\n",
        "생각합니다.\n",
        "\n",
        "이 다음에는 위에서 설명한 방식을 적용해보고자 합니다.\n"
      ],
      "metadata": {
        "id": "FpayYktXiLxT"
      }
    },
    {
      "cell_type": "code",
      "source": [
        ""
      ],
      "metadata": {
        "id": "hm04q0q8m5Qe"
      },
      "execution_count": null,
      "outputs": []
    }
  ]
}
